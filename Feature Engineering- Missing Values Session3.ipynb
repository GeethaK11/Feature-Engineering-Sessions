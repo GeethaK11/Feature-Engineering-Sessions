{
 "cells": [
  {
   "cell_type": "markdown",
   "metadata": {},
   "source": [
    "# Arbitrary Value Imputation\n",
    "this technique was derived from kaggle competition It consists of replacing NAN by an arbitrary value"
   ]
  },
  {
   "cell_type": "code",
   "execution_count": null,
   "metadata": {},
   "outputs": [],
   "source": [
    "import pandas as pd"
   ]
  },
  {
   "cell_type": "code",
   "execution_count": null,
   "metadata": {},
   "outputs": [],
   "source": [
    "df=pd.read_csv(\"titanic.csv\", usecols=[\"Age\",\"Fare\",\"Survived\"])\n",
    "df.head()\n",
    "\n",
    "Out[2]:\n",
    "Survived\tAge\tFare\n",
    "0\t0\t22.0\t7.2500\n",
    "1\t1\t38.0\t71.2833\n",
    "2\t1\t26.0\t7.9250\n",
    "3\t1\t35.0\t53.1000\n",
    "4\t0\t35.0\t8.0500"
   ]
  },
  {
   "cell_type": "code",
   "execution_count": null,
   "metadata": {},
   "outputs": [],
   "source": [
    "def impute_nan(df,variable):\n",
    "    df[variable+'_zero']=df[variable].fillna(0)\n",
    "    df[variable+'_hundred']=df[variable].fillna(100)"
   ]
  },
  {
   "cell_type": "code",
   "execution_count": null,
   "metadata": {},
   "outputs": [],
   "source": [
    "f['Age'].hist(bins=50)\n",
    "\n",
    "Out[4]:\n",
    "<matplotlib.axes._subplots.AxesSubplot at 0x1bfb2ed4c88>\n"
   ]
  },
  {
   "cell_type": "markdown",
   "metadata": {},
   "source": [
    "# Advantages\n",
    "    Easy to implement\n",
    "    Captures the importance of missingess if there is one\n",
    "\n",
    "\n",
    "Disadvantages\n",
    "    Distorts the original distribution of the variable\n",
    "    If missingess is not important, it may mask the predictive power of the original variable by distorting its distribution\n",
    "    Hard to decide which value to use\n",
    "\n",
    "\n",
    "To Handle Categroical Missing Values\n",
    "Frequent Category Imputation"
   ]
  },
  {
   "cell_type": "code",
   "execution_count": null,
   "metadata": {},
   "outputs": [],
   "source": [
    "df.columns\n",
    "\n",
    "\n",
    "Out[10]:\n",
    "Index(['Id', 'MSSubClass', 'MSZoning', 'LotFrontage', 'LotArea', 'Street',\n",
    "       'Alley', 'LotShape', 'LandContour', 'Utilities', 'LotConfig',\n",
    "       'LandSlope', 'Neighborhood', 'Condition1', 'Condition2', 'BldgType',\n",
    "       'HouseStyle', 'OverallQual', 'OverallCond', 'YearBuilt', 'YearRemodAdd',\n",
    "       'RoofStyle', 'RoofMatl', 'Exterior1st', 'Exterior2nd', 'MasVnrType',\n",
    "       'MasVnrArea', 'ExterQual', 'ExterCond', 'Foundation', 'BsmtQual',\n",
    "       'BsmtCond', 'BsmtExposure', 'BsmtFinType1', 'BsmtFinSF1',\n",
    "       'BsmtFinType2', 'BsmtFinSF2', 'BsmtUnfSF', 'TotalBsmtSF', 'Heating',\n",
    "       'HeatingQC', 'CentralAir', 'Electrical', '1stFlrSF', '2ndFlrSF',\n",
    "       'LowQualFinSF', 'GrLivArea', 'BsmtFullBath', 'BsmtHalfBath', 'FullBath',\n",
    "       'HalfBath', 'BedroomAbvGr', 'KitchenAbvGr', 'KitchenQual',\n",
    "       'TotRmsAbvGrd', 'Functional', 'Fireplaces', 'FireplaceQu', 'GarageType',\n",
    "       'GarageYrBlt', 'GarageFinish', 'GarageCars', 'GarageArea', 'GarageQual',\n",
    "       'GarageCond', 'PavedDrive', 'WoodDeckSF', 'OpenPorchSF',\n",
    "       'EnclosedPorch', '3SsnPorch', 'ScreenPorch', 'PoolArea', 'PoolQC',\n",
    "       'Fence', 'MiscFeature', 'MiscVal', 'MoSold', 'YrSold', 'SaleType',\n",
    "       'SaleCondition', 'SalePrice'],\n",
    "      dtype='object')"
   ]
  },
  {
   "cell_type": "code",
   "execution_count": null,
   "metadata": {},
   "outputs": [],
   "source": [
    "df=pd.read_csv('loan.csv', usecols=['BsmtQual','FireplaceQu','GarageType','SalePrice'])"
   ]
  },
  {
   "cell_type": "code",
   "execution_count": null,
   "metadata": {},
   "outputs": [],
   "source": [
    "df.shape\n",
    "\n",
    "Out[17]:\n",
    "(1460, 4)"
   ]
  },
  {
   "cell_type": "code",
   "execution_count": null,
   "metadata": {},
   "outputs": [],
   "source": [
    "df.isnull().sum()\n",
    "\n",
    "\n",
    "Out[13]:\n",
    "BsmtQual        37\n",
    "FireplaceQu    690\n",
    "GarageType      81\n",
    "SalePrice        0\n",
    "dtype: int64"
   ]
  },
  {
   "cell_type": "code",
   "execution_count": null,
   "metadata": {},
   "outputs": [],
   "source": [
    "df.isnull().mean().sort_values(ascending=True)\n",
    "\n",
    "Out[16]:\n",
    "SalePrice      0.000000\n",
    "BsmtQual       0.025342\n",
    "GarageType     0.055479\n",
    "FireplaceQu    0.472603\n",
    "dtype: float64"
   ]
  },
  {
   "cell_type": "markdown",
   "metadata": {},
   "source": [
    "# Compute the frequency with every feature"
   ]
  },
  {
   "cell_type": "code",
   "execution_count": null,
   "metadata": {},
   "outputs": [],
   "source": [
    "df['BsmtQual'].value_counts().plot.bar()\n",
    "\n",
    "Out[24]:\n",
    "<matplotlib.axes._subplots.AxesSubplot at 0x1bfb73a1be0>\n"
   ]
  },
  {
   "cell_type": "code",
   "execution_count": null,
   "metadata": {},
   "outputs": [],
   "source": [
    "df.groupby(['BsmtQual'])['BsmtQual'].count().sort_values(ascending=False).plot.bar()\n",
    "\n",
    "\n",
    "Out[21]:\n",
    "<matplotlib.axes._subplots.AxesSubplot at 0x1bfb71f3320>\n"
   ]
  },
  {
   "cell_type": "code",
   "execution_count": null,
   "metadata": {},
   "outputs": [],
   "source": [
    "df['GarageType'].value_counts().plot.bar()\n",
    "\n",
    "\n",
    "Out[25]:\n",
    "<matplotlib.axes._subplots.AxesSubplot at 0x1bfb73d0908>"
   ]
  },
  {
   "cell_type": "code",
   "execution_count": null,
   "metadata": {},
   "outputs": [],
   "source": [
    "df['FireplaceQu'].value_counts().plot.bar()\n",
    "\n",
    "\n",
    "Out[26]:\n",
    "<matplotlib.axes._subplots.AxesSubplot at 0x1bfb74132e8>"
   ]
  },
  {
   "cell_type": "code",
   "execution_count": null,
   "metadata": {},
   "outputs": [],
   "source": [
    "df['GarageType'].value_counts().index[0]\n",
    "\n",
    "Out[33]:\n",
    "'Attchd'"
   ]
  },
  {
   "cell_type": "code",
   "execution_count": null,
   "metadata": {},
   "outputs": [],
   "source": [
    "df['GarageType'].mode()[0]\n",
    "\n",
    "Out[39]:\n",
    "'Attchd'"
   ]
  },
  {
   "cell_type": "markdown",
   "metadata": {},
   "source": [
    "# def impute_nan(df,variable):\n",
    "    most_frequent_category=df[variable].mode()[0]\n",
    "    df[variable].fillna(most_frequent_category,inplace=True)"
   ]
  },
  {
   "cell_type": "code",
   "execution_count": null,
   "metadata": {},
   "outputs": [],
   "source": [
    "for feature in ['BsmtQual','FireplaceQu','GarageType']:\n",
    "    impute_nan(df,feature)"
   ]
  },
  {
   "cell_type": "code",
   "execution_count": null,
   "metadata": {},
   "outputs": [],
   "source": [
    "df.isnull().mean()\n",
    "\n",
    "\n",
    "Out[37]:\n",
    "BsmtQual       0.0\n",
    "FireplaceQu    0.0\n",
    "GarageType     0.0\n",
    "SalePrice      0.0\n",
    "dtype: float64"
   ]
  },
  {
   "cell_type": "markdown",
   "metadata": {},
   "source": [
    "# Advantages\n",
    "    Easy To implement\n",
    "    Fater way to implement #### Disadvantages\n",
    "    Since we are using the more frequent labels, it may use them in an over respresented way, if there are many nan's\n",
    "    It distorts the relation of the most frequent label\n"
   ]
  },
  {
   "cell_type": "code",
   "execution_count": null,
   "metadata": {},
   "outputs": [],
   "source": [
    "Adding a variable to capture NAN"
   ]
  },
  {
   "cell_type": "code",
   "execution_count": null,
   "metadata": {},
   "outputs": [],
   "source": [
    "df=pd.read_csv('loan.csv', usecols=['BsmtQual','FireplaceQu','GarageType','SalePrice'])\n",
    "df.head()\n",
    "\n",
    "\n",
    "Out[46]:\n",
    "BsmtQual\tFireplaceQu\tGarageType\tSalePrice\n",
    "0\tGd\tNaN\tAttchd\t208500\n",
    "1\tGd\tTA\tAttchd\t181500\n",
    "2\tGd\tTA\tAttchd\t223500\n",
    "3\tTA\tGd\tDetchd\t140000\n",
    "4\tGd\tTA\tAttchd\t250000"
   ]
  },
  {
   "cell_type": "code",
   "execution_count": null,
   "metadata": {},
   "outputs": [],
   "source": [
    "import numpy as np\n",
    "df['BsmtQual_Var']=np.where(df['BsmtQual'].isnull(),1,0)"
   ]
  },
  {
   "cell_type": "code",
   "execution_count": null,
   "metadata": {},
   "outputs": [],
   "source": [
    "df.head()\n",
    "\n",
    "\n",
    "Out[48]:\n",
    "BsmtQual\tFireplaceQu\tGarageType\tSalePrice\tBsmtQual_Var\n",
    "0\tGd\tNaN\tAttchd\t208500\t0\n",
    "1\tGd\tTA\tAttchd\t181500\t0\n",
    "2\tGd\tTA\tAttchd\t223500\t0\n",
    "3\tTA\tGd\tDetchd\t140000\t0\n",
    "4\tGd\tTA\tAttchd\t250000\t0"
   ]
  },
  {
   "cell_type": "code",
   "execution_count": null,
   "metadata": {},
   "outputs": [],
   "source": [
    "df['BsmtQual'].mode()[0]\n",
    "\n",
    "Out[55]:\n",
    "'TA'"
   ]
  },
  {
   "cell_type": "code",
   "execution_count": null,
   "metadata": {},
   "outputs": [],
   "source": [
    "df['BsmtQual'].fillna(frequent,inplace=True)"
   ]
  },
  {
   "cell_type": "code",
   "execution_count": null,
   "metadata": {},
   "outputs": [],
   "source": [
    "df.head()\n",
    "\n",
    "\n",
    "Out[53]:\n",
    "BsmtQual\tFireplaceQu\tGarageType\tSalePrice\tBsmtQual_Var\n",
    "0\tGd\tNaN\tAttchd\t208500\t0\n",
    "1\tGd\tTA\tAttchd\t181500\t0\n",
    "2\tGd\tTA\tAttchd\t223500\t0\n",
    "3\tTA\tGd\tDetchd\t140000\t0\n",
    "4\tGd\tTA\tAttchd\t250000\t0"
   ]
  },
  {
   "cell_type": "code",
   "execution_count": null,
   "metadata": {},
   "outputs": [],
   "source": [
    "df['FireplaceQu_Var']=np.where(df['FireplaceQu'].isnull(),1,0)\n",
    "frequent=df['FireplaceQu'].mode()[0]\n",
    "df['FireplaceQu'].fillna(frequent,inplace=True)"
   ]
  },
  {
   "cell_type": "code",
   "execution_count": null,
   "metadata": {},
   "outputs": [],
   "source": [
    "df.head()\n",
    "\n",
    "\n",
    "Out[57]:\n",
    "BsmtQual\tFireplaceQu\tGarageType\tSalePrice\tBsmtQual_Var\tFireplaceQu_Var\n",
    "0\tGd\tGd\tAttchd\t208500\t0\t1\n",
    "1\tGd\tTA\tAttchd\t181500\t0\t0\n",
    "2\tGd\tTA\tAttchd\t223500\t0\t0\n",
    "3\tTA\tGd\tDetchd\t140000\t0\t0\n",
    "4\tGd\tTA\tAttchd\t250000\t0\t0"
   ]
  },
  {
   "cell_type": "raw",
   "metadata": {},
   "source": [
    "# Suppose if you have more frequent categories, we just replace NAN with a new category"
   ]
  },
  {
   "cell_type": "code",
   "execution_count": null,
   "metadata": {},
   "outputs": [],
   "source": [
    "df=pd.read_csv('loan.csv', usecols=['BsmtQual','FireplaceQu','GarageType','SalePrice'])"
   ]
  },
  {
   "cell_type": "code",
   "execution_count": null,
   "metadata": {},
   "outputs": [],
   "source": [
    "df.head()\n",
    "\n",
    "\n",
    "Out[60]:\n",
    "BsmtQual\tFireplaceQu\tGarageType\tSalePrice\n",
    "0\tGd\tNaN\tAttchd\t208500\n",
    "1\tGd\tTA\tAttchd\t181500\n",
    "2\tGd\tTA\tAttchd\t223500\n",
    "3\tTA\tGd\tDetchd\t140000\n",
    "4\tGd\tTA\tAttchd\t250000"
   ]
  },
  {
   "cell_type": "code",
   "execution_count": null,
   "metadata": {},
   "outputs": [],
   "source": [
    "def impute_nan(df,variable):\n",
    "    df[variable+\"newvar\"]=np.where(df[variable].isnull(),\"Missing\",df[variable])"
   ]
  },
  {
   "cell_type": "code",
   "execution_count": null,
   "metadata": {},
   "outputs": [],
   "source": [
    "for feature in ['BsmtQual','FireplaceQu','GarageType']:\n",
    "    impute_nan(df,feature)"
   ]
  },
  {
   "cell_type": "code",
   "execution_count": null,
   "metadata": {},
   "outputs": [],
   "source": [
    "df.head()\n",
    "\n",
    "\n",
    "Out[65]:\n",
    "BsmtQual\tFireplaceQu\tGarageType\tSalePrice\tBsmtQualnewvar\tFireplaceQunewvar\tGarageTypenewvar\n",
    "0\tGd\tNaN\tAttchd\t208500\tGd\tMissing\tAttchd\n",
    "1\tGd\tTA\tAttchd\t181500\tGd\tTA\tAttchd\n",
    "2\tGd\tTA\tAttchd\t223500\tGd\tTA\tAttchd\n",
    "3\tTA\tGd\tDetchd\t140000\tTA\tGd\tDetchd\n",
    "4\tGd\tTA\tAttchd\t250000\tGd\tTA\tAttchd"
   ]
  },
  {
   "cell_type": "code",
   "execution_count": null,
   "metadata": {},
   "outputs": [],
   "source": [
    "df=df.drop(['BsmtQual','FireplaceQu','GarageType'],axis=1)"
   ]
  },
  {
   "cell_type": "code",
   "execution_count": null,
   "metadata": {},
   "outputs": [],
   "source": [
    "df.head()\n",
    "\n",
    "Out[69]:\n",
    "SalePrice\tBsmtQualnewvar\tFireplaceQunewvar\tGarageTypenewvar\n",
    "0\t208500\tGd\tMissing\tAttchd\n",
    "1\t181500\tGd\tTA\tAttchd\n",
    "2\t223500\tGd\tTA\tAttchd\n",
    "3\t140000\tTA\tGd\tDetchd\n",
    "4\t250000\tGd\tTA\tAttchd"
   ]
  },
  {
   "cell_type": "code",
   "execution_count": null,
   "metadata": {},
   "outputs": [],
   "source": []
  },
  {
   "cell_type": "code",
   "execution_count": null,
   "metadata": {},
   "outputs": [],
   "source": []
  },
  {
   "cell_type": "code",
   "execution_count": null,
   "metadata": {},
   "outputs": [],
   "source": []
  },
  {
   "cell_type": "code",
   "execution_count": null,
   "metadata": {},
   "outputs": [],
   "source": []
  },
  {
   "cell_type": "code",
   "execution_count": null,
   "metadata": {},
   "outputs": [],
   "source": []
  }
 ],
 "metadata": {
  "kernelspec": {
   "display_name": "Python 3",
   "language": "python",
   "name": "python3"
  },
  "language_info": {
   "codemirror_mode": {
    "name": "ipython",
    "version": 3
   },
   "file_extension": ".py",
   "mimetype": "text/x-python",
   "name": "python",
   "nbconvert_exporter": "python",
   "pygments_lexer": "ipython3",
   "version": "3.6.4"
  }
 },
 "nbformat": 4,
 "nbformat_minor": 2
}
