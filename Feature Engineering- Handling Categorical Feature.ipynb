{
 "cells": [
  {
   "cell_type": "markdown",
   "metadata": {},
   "source": [
    "# Ordinal Number Encoding"
   ]
  },
  {
   "cell_type": "code",
   "execution_count": null,
   "metadata": {},
   "outputs": [],
   "source": [
    "import datetime"
   ]
  },
  {
   "cell_type": "code",
   "execution_count": null,
   "metadata": {},
   "outputs": [],
   "source": [
    "today_date=datetime.datetime.today()"
   ]
  },
  {
   "cell_type": "code",
   "execution_count": null,
   "metadata": {},
   "outputs": [],
   "source": [
    "today_date\n",
    "\n",
    "Out[3]:\n",
    "datetime.datetime(2020, 7, 16, 19, 13, 59, 571679)"
   ]
  },
  {
   "cell_type": "code",
   "execution_count": null,
   "metadata": {},
   "outputs": [],
   "source": [
    "today_date-datetime.timedelta(3)\n",
    "\n",
    "\n",
    "Out[6]:\n",
    "datetime.datetime(2020, 7, 13, 19, 13, 59, 571679)"
   ]
  },
  {
   "cell_type": "code",
   "execution_count": null,
   "metadata": {},
   "outputs": [],
   "source": [
    "#### List Comprehension\n",
    "days=[today_date-datetime.timedelta(x) for x in range(0,15)]"
   ]
  },
  {
   "cell_type": "code",
   "execution_count": null,
   "metadata": {},
   "outputs": [],
   "source": [
    "import pandas as pd\n",
    "data=pd.DataFrame(days)\n",
    "data.columns=[\"Day\"]"
   ]
  },
  {
   "cell_type": "code",
   "execution_count": null,
   "metadata": {},
   "outputs": [],
   "source": [
    "data.head()\n",
    "Out[12]:\n",
    "Day\n",
    "0\t2020-07-16 19:13:59.571679\n",
    "1\t2020-07-15 19:13:59.571679\n",
    "2\t2020-07-14 19:13:59.571679\n",
    "3\t2020-07-13 19:13:59.571679\n",
    "4\t2020-07-12 19:13:59.571679"
   ]
  },
  {
   "cell_type": "code",
   "execution_count": null,
   "metadata": {},
   "outputs": [],
   "source": [
    "data['weekday']=data['Day'].dt.weekday_name\n",
    "data.head()\n",
    "\n",
    "Out[22]:\n",
    "Day\tweekday\n",
    "0\t2020-07-16 19:13:59.571679\tThursday\n",
    "1\t2020-07-15 19:13:59.571679\tWednesday\n",
    "2\t2020-07-14 19:13:59.571679\tTuesday\n",
    "3\t2020-07-13 19:13:59.571679\tMonday\n",
    "4\t2020-07-12 19:13:59.571679\tSunday"
   ]
  },
  {
   "cell_type": "code",
   "execution_count": null,
   "metadata": {},
   "outputs": [],
   "source": [
    "dictionary={'Monday':1,'Tuesday':2,'Wednesday':3,'Thursday':4,'Friday':5,'Saturday':6,'Sunday':7}"
   ]
  },
  {
   "cell_type": "code",
   "execution_count": null,
   "metadata": {},
   "outputs": [],
   "source": [
    "dictionary\n",
    "\n",
    "Out[24]:\n",
    "{'Monday': 1,\n",
    " 'Tuesday': 2,\n",
    " 'Wednesday': 3,\n",
    " 'Thursday': 4,\n",
    " 'Friday': 5,\n",
    " 'Saturday': 6,\n",
    " 'Sunday': 7}"
   ]
  },
  {
   "cell_type": "code",
   "execution_count": null,
   "metadata": {},
   "outputs": [],
   "source": [
    "data['weekday_ordinal']=data['weekday'].map(dictionary)"
   ]
  },
  {
   "cell_type": "code",
   "execution_count": null,
   "metadata": {},
   "outputs": [],
   "source": [
    "data\n",
    "\n",
    "Out[27]:\n",
    "Day\tweekday\tweekday_ordinal\n",
    "0\t2020-07-16 19:13:59.571679\tThursday\t4\n",
    "1\t2020-07-15 19:13:59.571679\tWednesday\t3\n",
    "2\t2020-07-14 19:13:59.571679\tTuesday\t2\n",
    "3\t2020-07-13 19:13:59.571679\tMonday\t1\n",
    "4\t2020-07-12 19:13:59.571679\tSunday\t7\n",
    "5\t2020-07-11 19:13:59.571679\tSaturday\t6\n",
    "6\t2020-07-10 19:13:59.571679\tFriday\t5\n",
    "7\t2020-07-09 19:13:59.571679\tThursday\t4\n",
    "8\t2020-07-08 19:13:59.571679\tWednesday\t3\n",
    "9\t2020-07-07 19:13:59.571679\tTuesday\t2\n",
    "10\t2020-07-06 19:13:59.571679\tMonday\t1\n",
    "11\t2020-07-05 19:13:59.571679\tSunday\t7\n",
    "12\t2020-07-04 19:13:59.571679\tSaturday\t6\n",
    "13\t2020-07-03 19:13:59.571679\tFriday\t5\n",
    "14\t2020-07-02 19:13:59.571679\tThursday\t4"
   ]
  },
  {
   "cell_type": "markdown",
   "metadata": {},
   "source": [
    "# Count Or Frequency Encoding"
   ]
  },
  {
   "cell_type": "code",
   "execution_count": null,
   "metadata": {},
   "outputs": [],
   "source": [
    "train_set = pd.read_csv('http://archive.ics.uci.edu/ml/machine-learning-databases/adult/adult.data' , header = None,index_col=None)\n",
    "train_set.head()\n",
    "\n",
    "Out[46]:\n",
    "0\t1\t2\t3\t4\t5\t6\t7\t8\t9\t10\t11\t12\t13\t14\n",
    "0\t39\tState-gov\t77516\tBachelors\t13\tNever-married\tAdm-clerical\tNot-in-family\tWhite\tMale\t2174\t0\t40\tUnited-States\t<=50K\n",
    "1\t50\tSelf-emp-not-inc\t83311\tBachelors\t13\tMarried-civ-spouse\tExec-managerial\tHusband\tWhite\tMale\t0\t0\t13\tUnited-States\t<=50K\n",
    "2\t38\tPrivate\t215646\tHS-grad\t9\tDivorced\tHandlers-cleaners\tNot-in-family\tWhite\tMale\t0\t0\t40\tUnited-States\t<=50K\n",
    "3\t53\tPrivate\t234721\t11th\t7\tMarried-civ-spouse\tHandlers-cleaners\tHusband\tBlack\tMale\t0\t0\t40\tUnited-States\t<=50K\n",
    "4\t28\tPrivate\t338409\tBachelors\t13\tMarried-civ-spouse\tProf-specialty\tWife\tBlack\tFemale\t0\t0\t40\tCuba\t<=50K"
   ]
  },
  {
   "cell_type": "code",
   "execution_count": null,
   "metadata": {},
   "outputs": [],
   "source": [
    "columns=[1,3,5,6,7,8,9,13]"
   ]
  },
  {
   "cell_type": "code",
   "execution_count": null,
   "metadata": {},
   "outputs": [],
   "source": [
    "train_set=train_set[columns]"
   ]
  },
  {
   "cell_type": "code",
   "execution_count": null,
   "metadata": {},
   "outputs": [],
   "source": [
    "train_set.columns=['Employment','Degree','Status','Designation','family_job','Race','Sex','Country']"
   ]
  },
  {
   "cell_type": "code",
   "execution_count": null,
   "metadata": {},
   "outputs": [],
   "source": [
    "train_set.head()\n",
    "\n",
    "Out[50]:\n",
    "Employment\tDegree\tStatus\tDesignation\tfamily_job\tRace\tSex\tCountry\n",
    "0\tState-gov\tBachelors\tNever-married\tAdm-clerical\tNot-in-family\tWhite\tMale\tUnited-States\n",
    "1\tSelf-emp-not-inc\tBachelors\tMarried-civ-spouse\tExec-managerial\tHusband\tWhite\tMale\tUnited-States\n",
    "2\tPrivate\tHS-grad\tDivorced\tHandlers-cleaners\tNot-in-family\tWhite\tMale\tUnited-States\n",
    "3\tPrivate\t11th\tMarried-civ-spouse\tHandlers-cleaners\tHusband\tBlack\tMale\tUnited-States\n",
    "4\tPrivate\tBachelors\tMarried-civ-spouse\tProf-specialty\tWife\tBlack\tFemale\tCuba"
   ]
  },
  {
   "cell_type": "code",
   "execution_count": null,
   "metadata": {},
   "outputs": [],
   "source": [
    "for feature in train_set.columns[:]:\n",
    "    print(feature,\":\",len(train_set[feature].unique()),'labels')\n",
    "    \n",
    "output\n",
    "  \n",
    "Employment : 9 labels\n",
    "Degree : 16 labels\n",
    "Status : 7 labels\n",
    "Designation : 15 labels\n",
    "family_job : 6 labels\n",
    "Race : 5 labels\n",
    "Sex : 2 labels\n",
    "Country : 42 labels"
   ]
  },
  {
   "cell_type": "code",
   "execution_count": null,
   "metadata": {},
   "outputs": [],
   "source": [
    "country_map=train_set['Country'].value_counts().to_dict()"
   ]
  },
  {
   "cell_type": "code",
   "execution_count": null,
   "metadata": {},
   "outputs": [],
   "source": [
    "train_set['Country']=train_set['Country'].map(country_map)\n",
    "train_set.head(20)\n",
    "\n",
    "\n",
    "Out[53]:\n",
    "Employment\tDegree\tStatus\tDesignation\tfamily_job\tRace\tSex\tCountry\n",
    "0\tState-gov\tBachelors\tNever-married\tAdm-clerical\tNot-in-family\tWhite\tMale\t29170\n",
    "1\tSelf-emp-not-inc\tBachelors\tMarried-civ-spouse\tExec-managerial\tHusband\tWhite\tMale\t29170\n",
    "2\tPrivate\tHS-grad\tDivorced\tHandlers-cleaners\tNot-in-family\tWhite\tMale\t29170\n",
    "3\tPrivate\t11th\tMarried-civ-spouse\tHandlers-cleaners\tHusband\tBlack\tMale\t29170\n",
    "4\tPrivate\tBachelors\tMarried-civ-spouse\tProf-specialty\tWife\tBlack\tFemale\t95\n",
    "5\tPrivate\tMasters\tMarried-civ-spouse\tExec-managerial\tWife\tWhite\tFemale\t29170\n",
    "6\tPrivate\t9th\tMarried-spouse-absent\tOther-service\tNot-in-family\tBlack\tFemale\t81\n",
    "7\tSelf-emp-not-inc\tHS-grad\tMarried-civ-spouse\tExec-managerial\tHusband\tWhite\tMale\t29170\n",
    "8\tPrivate\tMasters\tNever-married\tProf-specialty\tNot-in-family\tWhite\tFemale\t29170\n",
    "9\tPrivate\tBachelors\tMarried-civ-spouse\tExec-managerial\tHusband\tWhite\tMale\t29170\n",
    "10\tPrivate\tSome-college\tMarried-civ-spouse\tExec-managerial\tHusband\tBlack\tMale\t29170\n",
    "11\tState-gov\tBachelors\tMarried-civ-spouse\tProf-specialty\tHusband\tAsian-Pac-Islander\tMale\t100\n",
    "12\tPrivate\tBachelors\tNever-married\tAdm-clerical\tOwn-child\tWhite\tFemale\t29170\n",
    "13\tPrivate\tAssoc-acdm\tNever-married\tSales\tNot-in-family\tBlack\tMale\t29170\n",
    "14\tPrivate\tAssoc-voc\tMarried-civ-spouse\tCraft-repair\tHusband\tAsian-Pac-Islander\tMale\t583\n",
    "15\tPrivate\t7th-8th\tMarried-civ-spouse\tTransport-moving\tHusband\tAmer-Indian-Eskimo\tMale\t643\n",
    "16\tSelf-emp-not-inc\tHS-grad\tNever-married\tFarming-fishing\tOwn-child\tWhite\tMale\t29170\n",
    "17\tPrivate\tHS-grad\tNever-married\tMachine-op-inspct\tUnmarried\tWhite\tMale\t29170\n",
    "18\tPrivate\t11th\tMarried-civ-spouse\tSales\tHusband\tWhite\tMale\t29170\n",
    "19\tSelf-emp-not-inc\tMasters\tDivorced\tExec-managerial\tUnmarried\tWhite\tFemale\t29170"
   ]
  },
  {
   "cell_type": "markdown",
   "metadata": {},
   "source": [
    "# Advantages\n",
    "Easy To Use\n",
    "Not increasing feature space ##### Disadvantages\n",
    "It will provide same weight if the frequencies are same\n",
    "\n",
    "\n",
    "Target Guided Ordinal Encoding\n",
    "Ordering the labels according to the target\n",
    "Replace the labels by the joint probability of being 1 or 0"
   ]
  },
  {
   "cell_type": "code",
   "execution_count": null,
   "metadata": {},
   "outputs": [],
   "source": [
    "import pandas as pd\n",
    "df=pd.read_csv('titanic.csv', usecols=['Cabin','Survived'])\n",
    "df.head()\n",
    "\n",
    "\n",
    "Out[55]:\n",
    "Survived\tCabin\n",
    "0\t0\tNaN\n",
    "1\t1\tC85\n",
    "2\t1\tNaN\n",
    "3\t1\tC123\n",
    "4\t0\tNaN"
   ]
  },
  {
   "cell_type": "code",
   "execution_count": null,
   "metadata": {},
   "outputs": [],
   "source": [
    "df['Cabin'].fillna('Missing',inplace=True)"
   ]
  },
  {
   "cell_type": "code",
   "execution_count": null,
   "metadata": {},
   "outputs": [],
   "source": [
    "df['Cabin']=df['Cabin'].astype(str).str[0]"
   ]
  },
  {
   "cell_type": "code",
   "execution_count": null,
   "metadata": {},
   "outputs": [],
   "source": [
    "df.head()\n",
    "\n",
    "Out[62]:\n",
    "Survived\tCabin\n",
    "0\t0\tM\n",
    "1\t1\tC\n",
    "2\t1\tM\n",
    "3\t1\tC\n",
    "4\t0\tM"
   ]
  },
  {
   "cell_type": "code",
   "execution_count": null,
   "metadata": {},
   "outputs": [],
   "source": [
    "df.Cabin.unique()\n",
    "\n",
    "Out[63]:\n",
    "array(['M', 'C', 'E', 'G', 'D', 'A', 'B', 'F', 'T'], dtype=object)"
   ]
  },
  {
   "cell_type": "code",
   "execution_count": null,
   "metadata": {},
   "outputs": [],
   "source": [
    "df.groupby(['Cabin'])['Survived'].mean()\n",
    "\n",
    "\n",
    "Out[64]:\n",
    "Cabin\n",
    "A    0.466667\n",
    "B    0.744681\n",
    "C    0.593220\n",
    "D    0.757576\n",
    "E    0.750000\n",
    "F    0.615385\n",
    "G    0.500000\n",
    "M    0.299854\n",
    "T    0.000000\n",
    "Name: Survived, dtype: float64"
   ]
  },
  {
   "cell_type": "code",
   "execution_count": null,
   "metadata": {},
   "outputs": [],
   "source": [
    "df.groupby(['Cabin'])['Survived'].mean().sort_values().index\n",
    "\n",
    "Out[68]:\n",
    "Index(['T', 'M', 'A', 'G', 'C', 'F', 'B', 'E', 'D'], dtype='object', name='Cabin')"
   ]
  },
  {
   "cell_type": "code",
   "execution_count": null,
   "metadata": {},
   "outputs": [],
   "source": [
    "ordinal_labels=df.groupby(['Cabin'])['Survived'].mean().sort_values().index\n",
    "ordinal_labels\n",
    "\n",
    "Out[69]:\n",
    "Index(['T', 'M', 'A', 'G', 'C', 'F', 'B', 'E', 'D'], dtype='object', name='Cabin')"
   ]
  },
  {
   "cell_type": "code",
   "execution_count": null,
   "metadata": {},
   "outputs": [],
   "source": [
    "enumerate(ordinal_labels,0)\n",
    "\n",
    "Out[70]:\n",
    "<enumerate at 0x24e376166c0>"
   ]
  },
  {
   "cell_type": "code",
   "execution_count": null,
   "metadata": {},
   "outputs": [],
   "source": [
    "ordinal_labels2={k:i for i,k in enumerate(ordinal_labels,0)}\n",
    "ordinal_labels2\n",
    "\n",
    "Out[71]:\n",
    "{'T': 0, 'M': 1, 'A': 2, 'G': 3, 'C': 4, 'F': 5, 'B': 6, 'E': 7, 'D': 8}"
   ]
  },
  {
   "cell_type": "code",
   "execution_count": null,
   "metadata": {},
   "outputs": [],
   "source": [
    "df['Cabin_ordinal_labels']=df['Cabin'].map(ordinal_labels2)\n",
    "df.head()\n",
    "\n",
    "\n",
    "Out[72]:\n",
    "Survived\tCabin\tCabin_ordinal_labels\n",
    "0\t0\tM\t1\n",
    "1\t1\tC\t4\n",
    "2\t1\tM\t1\n",
    "3\t1\tC\t4\n",
    "4\t0\tM\t1"
   ]
  },
  {
   "cell_type": "markdown",
   "metadata": {},
   "source": [
    "# Mean Encoding"
   ]
  },
  {
   "cell_type": "code",
   "execution_count": null,
   "metadata": {},
   "outputs": [],
   "source": [
    "mean_ordinal=df.groupby(['Cabin'])['Survived'].mean().to_dict()"
   ]
  },
  {
   "cell_type": "code",
   "execution_count": null,
   "metadata": {},
   "outputs": [],
   "source": [
    "mean_ordinal\n",
    "\n",
    "\n",
    "Out[76]:\n",
    "{'A': 0.4666666666666667,\n",
    " 'B': 0.7446808510638298,\n",
    " 'C': 0.5932203389830508,\n",
    " 'D': 0.7575757575757576,\n",
    " 'E': 0.75,\n",
    " 'F': 0.6153846153846154,\n",
    " 'G': 0.5,\n",
    " 'M': 0.29985443959243085,\n",
    " 'T': 0.0}"
   ]
  },
  {
   "cell_type": "code",
   "execution_count": null,
   "metadata": {},
   "outputs": [],
   "source": [
    "df['mean_ordinal_encode']=df['Cabin'].map(mean_ordinal)\n",
    "df.head()\n",
    "\n",
    "\n",
    "Out[77]:\n",
    "Survived\tCabin\tCabin_ordinal_labels\tmean_ordinal_encode\n",
    "0\t0\tM\t1\t0.299854\n",
    "1\t1\tC\t4\t0.593220\n",
    "2\t1\tM\t1\t0.299854\n",
    "3\t1\tC\t4\t0.593220\n",
    "4\t0\tM\t1\t0.299854"
   ]
  },
  {
   "cell_type": "code",
   "execution_count": null,
   "metadata": {},
   "outputs": [],
   "source": []
  }
 ],
 "metadata": {
  "kernelspec": {
   "display_name": "Python 3",
   "language": "python",
   "name": "python3"
  },
  "language_info": {
   "codemirror_mode": {
    "name": "ipython",
    "version": 3
   },
   "file_extension": ".py",
   "mimetype": "text/x-python",
   "name": "python",
   "nbconvert_exporter": "python",
   "pygments_lexer": "ipython3",
   "version": "3.6.4"
  }
 },
 "nbformat": 4,
 "nbformat_minor": 2
}
