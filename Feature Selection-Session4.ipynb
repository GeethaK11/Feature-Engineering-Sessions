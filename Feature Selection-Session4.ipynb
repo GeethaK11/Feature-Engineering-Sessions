{
 "cells": [
  {
   "cell_type": "markdown",
   "metadata": {},
   "source": [
    "# Feature Selection Techniques"
   ]
  },
  {
   "cell_type": "code",
   "execution_count": null,
   "metadata": {},
   "outputs": [],
   "source": [
    "import pandas as pd\n",
    "df=pd.read_csv('mobile_dataset.csv')\n",
    "df.head()\n",
    "\n",
    "\n",
    "Out[2]:\n",
    "battery_power\tblue\tclock_speed\tdual_sim\tfc\tfour_g\tint_memory\tm_dep\tmobile_wt\tn_cores\t...\tpx_height\tpx_width\tram\tsc_h\tsc_w\ttalk_time\tthree_g\ttouch_screen\twifi\tprice_range\n",
    "0\t842\t0\t2.2\t0\t1\t0\t7\t0.6\t188\t2\t...\t20\t756\t2549\t9\t7\t19\t0\t0\t1\t1\n",
    "1\t1021\t1\t0.5\t1\t0\t1\t53\t0.7\t136\t3\t...\t905\t1988\t2631\t17\t3\t7\t1\t1\t0\t2\n",
    "2\t563\t1\t0.5\t1\t2\t1\t41\t0.9\t145\t5\t...\t1263\t1716\t2603\t11\t2\t9\t1\t1\t0\t2\n",
    "3\t615\t1\t2.5\t0\t0\t0\t10\t0.8\t131\t6\t...\t1216\t1786\t2769\t16\t8\t11\t1\t0\t0\t2\n",
    "4\t1821\t1\t1.2\t0\t13\t1\t44\t0.6\t141\t2\t...\t1208\t1212\t1411\t8\t2\t15\t1\t1\t0\t1\n",
    "5 rows × 21 columns"
   ]
  },
  {
   "cell_type": "markdown",
   "metadata": {},
   "source": [
    "# Univariate Selection"
   ]
  },
  {
   "cell_type": "code",
   "execution_count": null,
   "metadata": {},
   "outputs": [],
   "source": [
    "X=df.iloc[:,:-1]\n",
    "y=df['price_range']"
   ]
  },
  {
   "cell_type": "code",
   "execution_count": null,
   "metadata": {},
   "outputs": [],
   "source": [
    "X.head()\n",
    "\n",
    "Out[4]:\n",
    "battery_power\tblue\tclock_speed\tdual_sim\tfc\tfour_g\tint_memory\tm_dep\tmobile_wt\tn_cores\tpc\tpx_height\tpx_width\tram\tsc_h\tsc_w\ttalk_time\tthree_g\ttouch_screen\twifi\n",
    "0\t842\t0\t2.2\t0\t1\t0\t7\t0.6\t188\t2\t2\t20\t756\t2549\t9\t7\t19\t0\t0\t1\n",
    "1\t1021\t1\t0.5\t1\t0\t1\t53\t0.7\t136\t3\t6\t905\t1988\t2631\t17\t3\t7\t1\t1\t0\n",
    "2\t563\t1\t0.5\t1\t2\t1\t41\t0.9\t145\t5\t6\t1263\t1716\t2603\t11\t2\t9\t1\t1\t0\n",
    "3\t615\t1\t2.5\t0\t0\t0\t10\t0.8\t131\t6\t9\t1216\t1786\t2769\t16\t8\t11\t1\t0\t0\n",
    "4\t1821\t1\t1.2\t0\t13\t1\t44\t0.6\t141\t2\t14\t1208\t1212\t1411\t8\t2\t15\t1\t1\t0"
   ]
  },
  {
   "cell_type": "code",
   "execution_count": null,
   "metadata": {},
   "outputs": [],
   "source": [
    "y.head()\n",
    "\n",
    "\n",
    "Out[5]:\n",
    "0    1\n",
    "1    2\n",
    "2    2\n",
    "3    2\n",
    "4    1\n",
    "Name: price_range, dtype: int64"
   ]
  },
  {
   "cell_type": "code",
   "execution_count": null,
   "metadata": {},
   "outputs": [],
   "source": [
    "from sklearn.feature_selection import SelectKBest\n",
    "from sklearn.feature_selection import chi2"
   ]
  },
  {
   "cell_type": "code",
   "execution_count": null,
   "metadata": {},
   "outputs": [],
   "source": [
    "df.shape\n",
    "\n",
    "Out[9]:\n",
    "(2000, 21)"
   ]
  },
  {
   "cell_type": "code",
   "execution_count": null,
   "metadata": {},
   "outputs": [],
   "source": [
    "### Apply SelectKBest Algorithm\n",
    "ordered_rank_features=SelectKBest(score_func=chi2,k=20)\n",
    "ordered_feature=ordered_rank_features.fit(X,y)"
   ]
  },
  {
   "cell_type": "code",
   "execution_count": null,
   "metadata": {},
   "outputs": [],
   "source": [
    "dfscores=pd.DataFrame(ordered_feature.scores_,columns=[\"Score\"])\n",
    "dfcolumns=pd.DataFrame(X.columns)"
   ]
  },
  {
   "cell_type": "code",
   "execution_count": null,
   "metadata": {},
   "outputs": [],
   "source": [
    "features_rank=pd.concat([dfcolumns,dfscores],axis=1)"
   ]
  },
  {
   "cell_type": "code",
   "execution_count": null,
   "metadata": {},
   "outputs": [],
   "source": [
    "features_rank.columns=['Features','Score']\n",
    "features_rank\n",
    "\n",
    "\n",
    "Out[19]:\n",
    "Features\tScore\n",
    "0\tbattery_power\t14129.866576\n",
    "1\tblue\t0.723232\n",
    "2\tclock_speed\t0.648366\n",
    "3\tdual_sim\t0.631011\n",
    "4\tfc\t10.135166\n",
    "5\tfour_g\t1.521572\n",
    "6\tint_memory\t89.839124\n",
    "7\tm_dep\t0.745820\n",
    "8\tmobile_wt\t95.972863\n",
    "9\tn_cores\t9.097556\n",
    "10\tpc\t9.186054\n",
    "11\tpx_height\t17363.569536\n",
    "12\tpx_width\t9810.586750\n",
    "13\tram\t931267.519053\n",
    "14\tsc_h\t9.614878\n",
    "15\tsc_w\t16.480319\n",
    "16\ttalk_time\t13.236400\n",
    "17\tthree_g\t0.327643\n",
    "18\ttouch_screen\t1.928429\n",
    "19\twifi\t0.422091"
   ]
  },
  {
   "cell_type": "code",
   "execution_count": null,
   "metadata": {},
   "outputs": [],
   "source": [
    "features_rank.nlargest(10,'Score')\n",
    "\n",
    "\n",
    "Out[20]:\n",
    "Features\tScore\n",
    "13\tram\t931267.519053\n",
    "11\tpx_height\t17363.569536\n",
    "0\tbattery_power\t14129.866576\n",
    "12\tpx_width\t9810.586750\n",
    "8\tmobile_wt\t95.972863\n",
    "6\tint_memory\t89.839124\n",
    "15\tsc_w\t16.480319\n",
    "16\ttalk_time\t13.236400\n",
    "4\tfc\t10.135166\n",
    "14\tsc_h\t9.614878"
   ]
  },
  {
   "cell_type": "markdown",
   "metadata": {},
   "source": [
    "# Feature Importance\n",
    "This technique gives you a score for each feature of your data,the higher the score mor relevant it is"
   ]
  },
  {
   "cell_type": "code",
   "execution_count": null,
   "metadata": {},
   "outputs": [],
   "source": [
    "from sklearn.ensemble import ExtraTreesClassifier\n",
    "import matplotlib.pyplot as plt\n",
    "model=ExtraTreesClassifier()\n",
    "model.fit(X,y)\n",
    "\n",
    "Out[21]:\n",
    "ExtraTreesClassifier()"
   ]
  },
  {
   "cell_type": "code",
   "execution_count": null,
   "metadata": {},
   "outputs": [],
   "source": [
    "print(model.feature_importances_)\n",
    "\n",
    "\n",
    "[0.06153371 0.01935284 0.0327604  0.02021518 0.03206452 0.01764694\n",
    " 0.03493519 0.03307269 0.03599477 0.03262977 0.03336096 0.04747963\n",
    " 0.04880065 0.39576103 0.03355555 0.03306568 0.03457466 0.01388524\n",
    " 0.01851953 0.02079106]"
   ]
  },
  {
   "cell_type": "code",
   "execution_count": null,
   "metadata": {},
   "outputs": [],
   "source": [
    "ranked_features=pd.Series(model.feature_importances_,index=X.columns)\n",
    "ranked_features.nlargest(10).plot(kind='barh')\n",
    "plt.show()\n"
   ]
  },
  {
   "cell_type": "markdown",
   "metadata": {},
   "source": [
    "# Correlation"
   ]
  },
  {
   "cell_type": "code",
   "execution_count": null,
   "metadata": {},
   "outputs": [],
   "source": [
    "df.corr()\n",
    "\n",
    "\n",
    "Out[26]:\n",
    "battery_power\tblue\tclock_speed\tdual_sim\tfc\tfour_g\tint_memory\tm_dep\tmobile_wt\tn_cores\t...\tpx_height\tpx_width\tram\tsc_h\tsc_w\ttalk_time\tthree_g\ttouch_screen\twifi\tprice_range\n",
    "battery_power\t1.000000\t0.011252\t0.011482\t-0.041847\t0.033334\t0.015665\t-0.004004\t0.034085\t0.001844\t-0.029727\t...\t0.014901\t-0.008402\t-0.000653\t-0.029959\t-0.021421\t0.052510\t0.011522\t-0.010516\t-0.008343\t0.200723\n",
    "blue\t0.011252\t1.000000\t0.021419\t0.035198\t0.003593\t0.013443\t0.041177\t0.004049\t-0.008605\t0.036161\t...\t-0.006872\t-0.041533\t0.026351\t-0.002952\t0.000613\t0.013934\t-0.030236\t0.010061\t-0.021863\t0.020573\n",
    "clock_speed\t0.011482\t0.021419\t1.000000\t-0.001315\t-0.000434\t-0.043073\t0.006545\t-0.014364\t0.012350\t-0.005724\t...\t-0.014523\t-0.009476\t0.003443\t-0.029078\t-0.007378\t-0.011432\t-0.046433\t0.019756\t-0.024471\t-0.006606\n",
    "dual_sim\t-0.041847\t0.035198\t-0.001315\t1.000000\t-0.029123\t0.003187\t-0.015679\t-0.022142\t-0.008979\t-0.024658\t...\t-0.020875\t0.014291\t0.041072\t-0.011949\t-0.016666\t-0.039404\t-0.014008\t-0.017117\t0.022740\t0.017444\n",
    "fc\t0.033334\t0.003593\t-0.000434\t-0.029123\t1.000000\t-0.016560\t-0.029133\t-0.001791\t0.023618\t-0.013356\t...\t-0.009990\t-0.005176\t0.015099\t-0.011014\t-0.012373\t-0.006829\t0.001793\t-0.014828\t0.020085\t0.021998\n",
    "four_g\t0.015665\t0.013443\t-0.043073\t0.003187\t-0.016560\t1.000000\t0.008690\t-0.001823\t-0.016537\t-0.029706\t...\t-0.019236\t0.007448\t0.007313\t0.027166\t0.037005\t-0.046628\t0.584246\t0.016758\t-0.017620\t0.014772\n",
    "int_memory\t-0.004004\t0.041177\t0.006545\t-0.015679\t-0.029133\t0.008690\t1.000000\t0.006886\t-0.034214\t-0.028310\t...\t0.010441\t-0.008335\t0.032813\t0.037771\t0.011731\t-0.002790\t-0.009366\t-0.026999\t0.006993\t0.044435\n",
    "m_dep\t0.034085\t0.004049\t-0.014364\t-0.022142\t-0.001791\t-0.001823\t0.006886\t1.000000\t0.021756\t-0.003504\t...\t0.025263\t0.023566\t-0.009434\t-0.025348\t-0.018388\t0.017003\t-0.012065\t-0.002638\t-0.028353\t0.000853\n",
    "mobile_wt\t0.001844\t-0.008605\t0.012350\t-0.008979\t0.023618\t-0.016537\t-0.034214\t0.021756\t1.000000\t-0.018989\t...\t0.000939\t0.000090\t-0.002581\t-0.033855\t-0.020761\t0.006209\t0.001551\t-0.014368\t-0.000409\t-0.030302\n",
    "n_cores\t-0.029727\t0.036161\t-0.005724\t-0.024658\t-0.013356\t-0.029706\t-0.028310\t-0.003504\t-0.018989\t1.000000\t...\t-0.006872\t0.024480\t0.004868\t-0.000315\t0.025826\t0.013148\t-0.014733\t0.023774\t-0.009964\t0.004399\n",
    "pc\t0.031441\t-0.009952\t-0.005245\t-0.017143\t0.644595\t-0.005598\t-0.033273\t0.026282\t0.018844\t-0.001193\t...\t-0.018465\t0.004196\t0.028984\t0.004938\t-0.023819\t0.014657\t-0.001322\t-0.008742\t0.005389\t0.033599\n",
    "px_height\t0.014901\t-0.006872\t-0.014523\t-0.020875\t-0.009990\t-0.019236\t0.010441\t0.025263\t0.000939\t-0.006872\t...\t1.000000\t0.510664\t-0.020352\t0.059615\t0.043038\t-0.010645\t-0.031174\t0.021891\t0.051824\t0.148858\n",
    "px_width\t-0.008402\t-0.041533\t-0.009476\t0.014291\t-0.005176\t0.007448\t-0.008335\t0.023566\t0.000090\t0.024480\t...\t0.510664\t1.000000\t0.004105\t0.021599\t0.034699\t0.006720\t0.000350\t-0.001628\t0.030319\t0.165818\n",
    "ram\t-0.000653\t0.026351\t0.003443\t0.041072\t0.015099\t0.007313\t0.032813\t-0.009434\t-0.002581\t0.004868\t...\t-0.020352\t0.004105\t1.000000\t0.015996\t0.035576\t0.010820\t0.015795\t-0.030455\t0.022669\t0.917046\n",
    "sc_h\t-0.029959\t-0.002952\t-0.029078\t-0.011949\t-0.011014\t0.027166\t0.037771\t-0.025348\t-0.033855\t-0.000315\t...\t0.059615\t0.021599\t0.015996\t1.000000\t0.506144\t-0.017335\t0.012033\t-0.020023\t0.025929\t0.022986\n",
    "sc_w\t-0.021421\t0.000613\t-0.007378\t-0.016666\t-0.012373\t0.037005\t0.011731\t-0.018388\t-0.020761\t0.025826\t...\t0.043038\t0.034699\t0.035576\t0.506144\t1.000000\t-0.022821\t0.030941\t0.012720\t0.035423\t0.038711\n",
    "talk_time\t0.052510\t0.013934\t-0.011432\t-0.039404\t-0.006829\t-0.046628\t-0.002790\t0.017003\t0.006209\t0.013148\t...\t-0.010645\t0.006720\t0.010820\t-0.017335\t-0.022821\t1.000000\t-0.042688\t0.017196\t-0.029504\t0.021859\n",
    "three_g\t0.011522\t-0.030236\t-0.046433\t-0.014008\t0.001793\t0.584246\t-0.009366\t-0.012065\t0.001551\t-0.014733\t...\t-0.031174\t0.000350\t0.015795\t0.012033\t0.030941\t-0.042688\t1.000000\t0.013917\t0.004316\t0.023611\n",
    "touch_screen\t-0.010516\t0.010061\t0.019756\t-0.017117\t-0.014828\t0.016758\t-0.026999\t-0.002638\t-0.014368\t0.023774\t...\t0.021891\t-0.001628\t-0.030455\t-0.020023\t0.012720\t0.017196\t0.013917\t1.000000\t0.011917\t-0.030411\n",
    "wifi\t-0.008343\t-0.021863\t-0.024471\t0.022740\t0.020085\t-0.017620\t0.006993\t-0.028353\t-0.000409\t-0.009964\t...\t0.051824\t0.030319\t0.022669\t0.025929\t0.035423\t-0.029504\t0.004316\t0.011917\t1.000000\t0.018785\n",
    "price_range\t0.200723\t0.020573\t-0.006606\t0.017444\t0.021998\t0.014772\t0.044435\t0.000853\t-0.030302\t0.004399\t...\t0.148858\t0.165818\t0.917046\t0.022986\t0.038711\t0.021859\t0.023611\t-0.030411\t0.018785\t1.000000\n",
    "21 rows × 21 columns"
   ]
  },
  {
   "cell_type": "code",
   "execution_count": null,
   "metadata": {},
   "outputs": [],
   "source": [
    "import seaborn as sns\n",
    "corr=df.iloc[:,:-1].corr()\n",
    "top_features=corr.index\n",
    "plt.figure(figsize=(20,20))\n",
    "sns.heatmap(df[top_features].corr(),annot=True)\n",
    "\n",
    "\n",
    "Out[28]:\n",
    "<matplotlib.axes._subplots.AxesSubplot at 0x1c5a0bbbf60>\n"
   ]
  },
  {
   "cell_type": "markdown",
   "metadata": {},
   "source": [
    "#### Remove The correlated"
   ]
  },
  {
   "cell_type": "code",
   "execution_count": null,
   "metadata": {},
   "outputs": [],
   "source": [
    "threshold=0.8"
   ]
  },
  {
   "cell_type": "code",
   "execution_count": null,
   "metadata": {},
   "outputs": [],
   "source": [
    "# find and remove correlated features\n",
    "def correlation(dataset, threshold):\n",
    "    col_corr = set()  # Set of all the names of correlated columns\n",
    "    corr_matrix = dataset.corr()\n",
    "    for i in range(len(corr_matrix.columns)):\n",
    "        for j in range(i):\n",
    "            if abs(corr_matrix.iloc[i, j]) > threshold: # we are interested in absolute coeff value\n",
    "                colname = corr_matrix.columns[i]  # getting the name of column\n",
    "                col_corr.add(colname)\n",
    "    return col_corr"
   ]
  },
  {
   "cell_type": "code",
   "execution_count": null,
   "metadata": {},
   "outputs": [],
   "source": [
    "correlation(df.iloc[:,:-1],threshold)\n",
    "\n",
    "Out[35]:\n",
    "set()"
   ]
  },
  {
   "cell_type": "markdown",
   "metadata": {},
   "source": [
    "# Information Gain"
   ]
  },
  {
   "cell_type": "code",
   "execution_count": null,
   "metadata": {},
   "outputs": [],
   "source": [
    "from sklearn.feature_selection import mutual_info_classif"
   ]
  },
  {
   "cell_type": "code",
   "execution_count": null,
   "metadata": {},
   "outputs": [],
   "source": [
    "Feature Selection-Day 7.ipynb"
   ]
  },
  {
   "cell_type": "code",
   "execution_count": null,
   "metadata": {},
   "outputs": [],
   "source": [
    "mutual_data=pd.Series(mutual_info,index=X.columns)\n",
    "mutual_data.sort_values(ascending=False)\n",
    "\n",
    "Out[39]:\n",
    "ram              0.848254\n",
    "sc_w             0.032774\n",
    "int_memory       0.029968\n",
    "battery_power    0.027203\n",
    "px_width         0.024848\n",
    "fc               0.023923\n",
    "dual_sim         0.022537\n",
    "px_height        0.022146\n",
    "mobile_wt        0.013782\n",
    "touch_screen     0.012663\n",
    "clock_speed      0.010944\n",
    "n_cores          0.009517\n",
    "four_g           0.008748\n",
    "m_dep            0.000000\n",
    "pc               0.000000\n",
    "sc_h             0.000000\n",
    "talk_time        0.000000\n",
    "three_g          0.000000\n",
    "blue             0.000000\n",
    "wifi             0.000000\n",
    "dtype: float64"
   ]
  },
  {
   "cell_type": "code",
   "execution_count": null,
   "metadata": {},
   "outputs": [],
   "source": []
  },
  {
   "cell_type": "code",
   "execution_count": null,
   "metadata": {},
   "outputs": [],
   "source": []
  },
  {
   "cell_type": "code",
   "execution_count": null,
   "metadata": {},
   "outputs": [],
   "source": []
  }
 ],
 "metadata": {
  "kernelspec": {
   "display_name": "Python 3",
   "language": "python",
   "name": "python3"
  },
  "language_info": {
   "codemirror_mode": {
    "name": "ipython",
    "version": 3
   },
   "file_extension": ".py",
   "mimetype": "text/x-python",
   "name": "python",
   "nbconvert_exporter": "python",
   "pygments_lexer": "ipython3",
   "version": "3.6.4"
  }
 },
 "nbformat": 4,
 "nbformat_minor": 2
}
