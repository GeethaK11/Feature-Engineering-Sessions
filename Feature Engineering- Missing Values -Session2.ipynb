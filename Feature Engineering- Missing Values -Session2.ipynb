{
 "cells": [
  {
   "cell_type": "markdown",
   "metadata": {},
   "source": [
    "# Random Sample Imputation\n",
    "Aim: Random sample imputation consists of taking random observation from the dataset and we use this observation to replace the nan values\n",
    "\n",
    "When should it be used? It assumes that the data are missing completely at random(MCAR)"
   ]
  },
  {
   "cell_type": "code",
   "execution_count": null,
   "metadata": {},
   "outputs": [],
   "source": [
    "import pandas as pd\n",
    "df=pd.read_csv('titanic.csv', usecols=['Age','Fare','Survived'])\n",
    "df.head()\n",
    "Out[1]:\n",
    "Survived\tAge\tFare\n",
    "0\t0\t22.0\t7.2500\n",
    "1\t1\t38.0\t71.2833\n",
    "2\t1\t26.0\t7.9250\n",
    "3\t1\t35.0\t53.1000\n",
    "4\t0\t35.0\t8.0500"
   ]
  },
  {
   "cell_type": "code",
   "execution_count": null,
   "metadata": {},
   "outputs": [],
   "source": [
    "df.isnull().sum()\n",
    "\n",
    "\n",
    "Out[2]:\n",
    "Survived      0\n",
    "Age         177\n",
    "Fare          0\n",
    "dtype: int64"
   ]
  },
  {
   "cell_type": "code",
   "execution_count": null,
   "metadata": {},
   "outputs": [],
   "source": [
    "df.isnull().mean()\n",
    "\n",
    "\n",
    "Out[4]:\n",
    "Survived    0.000000\n",
    "Age         0.198653\n",
    "Fare        0.000000\n",
    "dtype: float64"
   ]
  },
  {
   "cell_type": "code",
   "execution_count": null,
   "metadata": {},
   "outputs": [],
   "source": [
    "df['Age'].isnull().sum()\n",
    "\n",
    "Out[14]:\n",
    "177"
   ]
  },
  {
   "cell_type": "code",
   "execution_count": null,
   "metadata": {},
   "outputs": [],
   "source": [
    "f['Age'].dropna().sample(df['Age'].isnull().sum(),random_state=0)\n",
    "\n",
    "\n",
    "Out[22]:\n",
    "423    28.00\n",
    "177    50.00\n",
    "305     0.92\n",
    "292    36.00\n",
    "889    26.00\n",
    "595    36.00\n",
    "637    31.00\n",
    "54     65.00\n",
    "456    65.00\n",
    "110    47.00\n",
    "287    22.00\n",
    "315    26.00\n",
    "691     4.00\n",
    "811    39.00\n",
    "861    21.00\n",
    "15     55.00\n",
    "239    33.00\n",
    "644     0.75\n",
    "394    24.00\n",
    "795    39.00\n",
    "131    20.00\n",
    "346    40.00\n",
    "9      14.00\n",
    "477    29.00\n",
    "606    30.00\n",
    "469     0.75\n",
    "325    36.00\n",
    "72     21.00\n",
    "724    27.00\n",
    "40     40.00\n",
    "       ...  \n",
    "396    31.00\n",
    "452    30.00\n",
    "395    22.00\n",
    "882    22.00\n",
    "821    27.00\n",
    "314    43.00\n",
    "622    20.00\n",
    "204    18.00\n",
    "60     22.00\n",
    "731    11.00\n",
    "81     29.00\n",
    "676    24.50\n",
    "433    17.00\n",
    "378    20.00\n",
    "174    56.00\n",
    "624    21.00\n",
    "642     2.00\n",
    "157    30.00\n",
    "427    19.00\n",
    "698    49.00\n",
    "179    36.00\n",
    "24      8.00\n",
    "630    80.00\n",
    "458    50.00\n",
    "49     18.00\n",
    "539    22.00\n",
    "267    25.00\n",
    "352    15.00\n",
    "99     34.00\n",
    "689    15.00\n",
    "Name: Age, Length: 177, dtype: float64"
   ]
  },
  {
   "cell_type": "code",
   "execution_count": null,
   "metadata": {},
   "outputs": [],
   "source": [
    "df[df['Age'].isnull()].index\n",
    "\n",
    "\n",
    "Out[23]:\n",
    "Int64Index([  5,  17,  19,  26,  28,  29,  31,  32,  36,  42,\n",
    "            ...\n",
    "            832, 837, 839, 846, 849, 859, 863, 868, 878, 888],\n",
    "           dtype='int64', length=177)"
   ]
  },
  {
   "cell_type": "code",
   "execution_count": null,
   "metadata": {},
   "outputs": [],
   "source": [
    "def impute_nan(df,variable,median):\n",
    "    df[variable+\"_median\"]=df[variable].fillna(median)\n",
    "    df[variable+\"_random\"]=df[variable]\n",
    "    ##It will have the random sample to fill the na\n",
    "    random_sample=df[variable].dropna().sample(df[variable].isnull().sum(),random_state=0)\n",
    "    ##pandas need to have same index in order to merge the dataset\n",
    "    random_sample.index=df[df[variable].isnull()].index\n",
    "    df.loc[df[variable].isnull(),variable+'_random']=random_sample"
   ]
  },
  {
   "cell_type": "code",
   "execution_count": null,
   "metadata": {},
   "outputs": [],
   "source": [
    "median=df.Age.median()"
   ]
  },
  {
   "cell_type": "code",
   "execution_count": null,
   "metadata": {},
   "outputs": [],
   "source": [
    "median\n",
    "\n",
    "\n",
    "Out[26]:\n",
    "28.0"
   ]
  },
  {
   "cell_type": "code",
   "execution_count": null,
   "metadata": {},
   "outputs": [],
   "source": [
    "impute_nan(df,\"Age\",median)"
   ]
  },
  {
   "cell_type": "code",
   "execution_count": null,
   "metadata": {},
   "outputs": [],
   "source": [
    "df.head()\n",
    "\n",
    "Out[28]:\n",
    "Survived\tAge\tFare\tAge_median\tAge_random\n",
    "0\t0\t22.0\t7.2500\t22.0\t22.0\n",
    "1\t1\t38.0\t71.2833\t38.0\t38.0\n",
    "2\t1\t26.0\t7.9250\t26.0\t26.0\n",
    "3\t1\t35.0\t53.1000\t35.0\t35.0\n",
    "4\t0\t35.0\t8.0500\t35.0\t35.0"
   ]
  },
  {
   "cell_type": "code",
   "execution_count": null,
   "metadata": {},
   "outputs": [],
   "source": [
    "import matplotlib.pyplot as plt\n",
    "%matplotlib inline"
   ]
  },
  {
   "cell_type": "code",
   "execution_count": null,
   "metadata": {},
   "outputs": [],
   "source": [
    "fig = plt.figure()\n",
    "ax = fig.add_subplot(111)\n",
    "df['Age'].plot(kind='kde', ax=ax)\n",
    "df.Age_median.plot(kind='kde', ax=ax, color='red')\n",
    "df.Age_random.plot(kind='kde', ax=ax, color='green')\n",
    "lines, labels = ax.get_legend_handles_labels()\n",
    "ax.legend(lines, labels, loc='best')\n",
    "\n",
    "\n",
    "Out[33]:\n",
    "<matplotlib.legend.Legend at 0x2861b07e438>\n"
   ]
  },
  {
   "cell_type": "markdown",
   "metadata": {},
   "source": [
    "# Advantages\n",
    "Easy To implement\n",
    "There is less distortion in variance\n",
    "\n",
    "Disadvantage\n",
    "Every situation randomness wont work\n",
    "Capturing NAN values with a new feature\n",
    "It works well if the data are not missing completely at random"
   ]
  },
  {
   "cell_type": "code",
   "execution_count": null,
   "metadata": {},
   "outputs": [],
   "source": [
    "df=pd.read_csv('titanic.csv', usecols=['Age','Fare','Survived'])\n",
    "df.head()\n",
    "\n",
    "\n",
    "Out[35]:\n",
    "Survived\tAge\tFare\n",
    "0\t0\t22.0\t7.2500\n",
    "1\t1\t38.0\t71.2833\n",
    "2\t1\t26.0\t7.9250\n",
    "3\t1\t35.0\t53.1000\n",
    "4\t0\t35.0\t8.0500"
   ]
  },
  {
   "cell_type": "code",
   "execution_count": null,
   "metadata": {},
   "outputs": [],
   "source": [
    "import numpy as np\n",
    "df['Age_NAN']=np.where(df['Age'].isnull(),1,0)"
   ]
  },
  {
   "cell_type": "code",
   "execution_count": null,
   "metadata": {},
   "outputs": [],
   "source": [
    "df.head()\n",
    "\n",
    "\n",
    "Out[39]:\n",
    "Survived\tAge\tFare\tAge_NAN\n",
    "0\t0\t22.0\t7.2500\t0\n",
    "1\t1\t38.0\t71.2833\t0\n",
    "2\t1\t26.0\t7.9250\t0\n",
    "3\t1\t35.0\t53.1000\t0\n",
    "4\t0\t35.0\t8.0500\t0"
   ]
  },
  {
   "cell_type": "code",
   "execution_count": null,
   "metadata": {},
   "outputs": [],
   "source": [
    "df.Age.median()\n",
    "\n",
    "Out[41]:\n",
    "28.0"
   ]
  },
  {
   "cell_type": "code",
   "execution_count": null,
   "metadata": {},
   "outputs": [],
   "source": [
    "df['Age'].fillna(df.Age.median(),inplace=True)"
   ]
  },
  {
   "cell_type": "code",
   "execution_count": null,
   "metadata": {},
   "outputs": [],
   "source": [
    "df.head(10)\n",
    "\n",
    "Out[46]:\n",
    "Survived\tAge\tFare\tAge_NAN\n",
    "0\t0\t22.0\t7.2500\t0\n",
    "1\t1\t38.0\t71.2833\t0\n",
    "2\t1\t26.0\t7.9250\t0\n",
    "3\t1\t35.0\t53.1000\t0\n",
    "4\t0\t35.0\t8.0500\t0\n",
    "5\t0\t28.0\t8.4583\t1\n",
    "6\t0\t54.0\t51.8625\t0\n",
    "7\t0\t2.0\t21.0750\t0\n",
    "8\t1\t27.0\t11.1333\t0\n",
    "9\t1\t14.0\t30.0708\t0"
   ]
  },
  {
   "cell_type": "markdown",
   "metadata": {},
   "source": [
    "# Advantages\n",
    "Easy to implement\n",
    "Captures the importance of missing values\n",
    "Disadvantages\n",
    "Creating Additional Features(Curse of Dimensionality)\n",
    "End of Distribution imputation"
   ]
  },
  {
   "cell_type": "code",
   "execution_count": null,
   "metadata": {},
   "outputs": [],
   "source": [
    "df=pd.read_csv('titanic.csv', usecols=['Age','Fare','Survived'])\n",
    "df.head()\n",
    "\n",
    "Out[47]:\n",
    "Survived\tAge\tFare\n",
    "0\t0\t22.0\t7.2500\n",
    "1\t1\t38.0\t71.2833\n",
    "2\t1\t26.0\t7.9250\n",
    "3\t1\t35.0\t53.1000\n",
    "4\t0\t35.0\t8.0500"
   ]
  },
  {
   "cell_type": "code",
   "execution_count": null,
   "metadata": {},
   "outputs": [],
   "source": [
    "df.Age.hist(bins=50)\n",
    "Out[48]:\n",
    "<matplotlib.axes._subplots.AxesSubplot at 0x28618d75f28>\n"
   ]
  },
  {
   "cell_type": "code",
   "execution_count": null,
   "metadata": {},
   "outputs": [],
   "source": [
    "extreme=df.Age.mean()+3*df.Age.std()"
   ]
  },
  {
   "cell_type": "code",
   "execution_count": null,
   "metadata": {},
   "outputs": [],
   "source": [
    "import seaborn as sns\n",
    "sns.boxplot('Age',data=df)\n",
    "\n",
    "\n",
    "Out[52]:\n",
    "<matplotlib.axes._subplots.AxesSubplot at 0x2861de7a160>\n"
   ]
  },
  {
   "cell_type": "code",
   "execution_count": null,
   "metadata": {},
   "outputs": [],
   "source": [
    "def impute_nan(df,variable,median,extreme):\n",
    "    df[variable+\"_end_distribution\"]=df[variable].fillna(extreme)\n",
    "    df[variable].fillna(median,inplace=True)"
   ]
  },
  {
   "cell_type": "code",
   "execution_count": null,
   "metadata": {},
   "outputs": [],
   "source": [
    "impute_nan(df,'Age',df.Age.median(),extreme)"
   ]
  },
  {
   "cell_type": "code",
   "execution_count": null,
   "metadata": {},
   "outputs": [],
   "source": [
    "df.head()\n",
    "\n",
    "\n",
    "Out[56]:\n",
    "Survived\tAge\tFare\tAge_end_distribution\n",
    "0\t0\t22.0\t7.2500\t22.0\n",
    "1\t1\t38.0\t71.2833\t38.0\n",
    "2\t1\t26.0\t7.9250\t26.0\n",
    "3\t1\t35.0\t53.1000\t35.0\n",
    "4\t0\t35.0\t8.0500\t35.0"
   ]
  },
  {
   "cell_type": "code",
   "execution_count": null,
   "metadata": {},
   "outputs": [],
   "source": [
    "df['Age'].hist(bins=50)\n",
    "\n",
    "\n",
    "Out[57]:\n",
    "<matplotlib.axes._subplots.AxesSubplot at 0x2861debb128>\n"
   ]
  },
  {
   "cell_type": "code",
   "execution_count": null,
   "metadata": {},
   "outputs": [],
   "source": [
    "df['Age_end_distribution'].hist(bins=50)\n",
    "\n",
    "Out[58]:\n",
    "<matplotlib.axes._subplots.AxesSubplot at 0x2861debd2e8>\n"
   ]
  },
  {
   "cell_type": "code",
   "execution_count": null,
   "metadata": {},
   "outputs": [],
   "source": [
    "sns.boxplot('Age_end_distribution',data=df)\n",
    "\n",
    "Out[59]:\n",
    "<matplotlib.axes._subplots.AxesSubplot at 0x2861dffa2b0>\n"
   ]
  }
 ],
 "metadata": {
  "kernelspec": {
   "display_name": "Python 3",
   "language": "python",
   "name": "python3"
  },
  "language_info": {
   "codemirror_mode": {
    "name": "ipython",
    "version": 3
   },
   "file_extension": ".py",
   "mimetype": "text/x-python",
   "name": "python",
   "nbconvert_exporter": "python",
   "pygments_lexer": "ipython3",
   "version": "3.6.4"
  }
 },
 "nbformat": 4,
 "nbformat_minor": 2
}
