{
 "cells": [
  {
   "cell_type": "markdown",
   "metadata": {},
   "source": [
    "# Forecasting Timeseries Data Using Facebook FbProphet\n",
    "Steps Required With FbProphet\n",
    "\n",
    "  1.Introduction And Installation\n",
    "  2.Data Preprocessing With Time Seires\n",
    "  3.Model Fitting\n",
    "  4.Obtaining The Forecasts\n",
    "  5.Plotting The Forecasts\n",
    "  6.Cross Validation\n",
    "  7.Computing Performance Metrics\n",
    "  8.Visualize the Performance MEtrics\n",
    "  9.Conclusions"
   ]
  },
  {
   "cell_type": "code",
   "execution_count": null,
   "metadata": {},
   "outputs": [],
   "source": [
    "df=pd.read_csv('monthly-milk-production-pounds.csv')\n",
    "df.head()\n",
    "\n",
    "\n",
    "Out[58]:\n",
    "Month\tMonthly milk production: pounds per cow. Jan 62 ? Dec 75\n",
    "0\t1962-01\t589.0\n",
    "1\t1962-02\t561.0\n",
    "2\t1962-03\t640.0\n",
    "3\t1962-04\t656.0\n",
    "4\t1962-05\t727.0"
   ]
  },
  {
   "cell_type": "code",
   "execution_count": null,
   "metadata": {},
   "outputs": [],
   "source": [
    "df.tail()\n",
    "\n",
    "Out[59]:\n",
    "Month\tMonthly milk production: pounds per cow. Jan 62 ? Dec 75\n",
    "164\t1975-09\t817.0\n",
    "165\t1975-10\t827.0\n",
    "166\t1975-11\t797.0\n",
    "167\t1975-12\t843.0\n",
    "168\tMonthly milk production: pounds per cow. Jan 6...\tNaN"
   ]
  },
  {
   "cell_type": "code",
   "execution_count": null,
   "metadata": {},
   "outputs": [],
   "source": [
    "df.drop(168,axis=0,inplace=True)"
   ]
  },
  {
   "cell_type": "code",
   "execution_count": null,
   "metadata": {},
   "outputs": [],
   "source": [
    "df.tail()\n",
    "\n",
    "\n",
    "Out[61]:\n",
    "Month\tMonthly milk production: pounds per cow. Jan 62 ? Dec 75\n",
    "163\t1975-08\t858.0\n",
    "164\t1975-09\t817.0\n",
    "165\t1975-10\t827.0\n",
    "166\t1975-11\t797.0\n",
    "167\t1975-12\t843.0"
   ]
  },
  {
   "cell_type": "code",
   "execution_count": null,
   "metadata": {},
   "outputs": [],
   "source": [
    "df.columns=[\"ds\",\"y\"]"
   ]
  },
  {
   "cell_type": "code",
   "execution_count": null,
   "metadata": {},
   "outputs": [],
   "source": [
    "df.plot()\n",
    "\n",
    "Out[63]:\n",
    "<matplotlib.axes._subplots.AxesSubplot at 0x284800b26a0>\n"
   ]
  },
  {
   "cell_type": "code",
   "execution_count": null,
   "metadata": {},
   "outputs": [],
   "source": [
    "f.head()\n",
    "\n",
    "\n",
    "Out[64]:\n",
    "ds\ty\n",
    "0\t1962-01\t589.0\n",
    "1\t1962-02\t561.0\n",
    "2\t1962-03\t640.0\n",
    "3\t1962-04\t656.0\n",
    "4\t1962-05\t727.0"
   ]
  },
  {
   "cell_type": "code",
   "execution_count": null,
   "metadata": {},
   "outputs": [],
   "source": [
    "df['ds']=pd.to_datetime(df['ds'])"
   ]
  },
  {
   "cell_type": "code",
   "execution_count": null,
   "metadata": {},
   "outputs": [],
   "source": [
    "df.head()\n",
    "\n",
    "\n",
    "Out[12]:\n",
    "ds\ty\n",
    "0\t1962-01-01\t589.0\n",
    "1\t1962-02-01\t561.0\n",
    "2\t1962-03-01\t640.0\n",
    "3\t1962-04-01\t656.0\n",
    "4\t1962-05-01\t727.0"
   ]
  },
  {
   "cell_type": "code",
   "execution_count": null,
   "metadata": {},
   "outputs": [],
   "source": [
    "df['y'].plot()\n",
    "\n",
    "\n",
    "Out[66]:\n",
    "<matplotlib.axes._subplots.AxesSubplot at 0x284800b2390>\n"
   ]
  },
  {
   "cell_type": "code",
   "execution_count": null,
   "metadata": {},
   "outputs": [],
   "source": [
    "df.head()\n",
    "\n",
    "\n",
    "Out[17]:\n",
    "ds\ty\n",
    "0\t1962-01-01\tNaN\n",
    "1\t1962-02-01\t-28.0\n",
    "2\t1962-03-01\t79.0\n",
    "3\t1962-04-01\t16.0\n",
    "4\t1962-05-01\t71.0"
   ]
  },
  {
   "cell_type": "code",
   "execution_count": null,
   "metadata": {},
   "outputs": [],
   "source": [
    "df['y'].plot()\n",
    "\n",
    "Out[67]:\n",
    "<matplotlib.axes._subplots.AxesSubplot at 0x284800ef748>\n"
   ]
  },
  {
   "cell_type": "code",
   "execution_count": null,
   "metadata": {},
   "outputs": [],
   "source": [
    "from fbprophet import Prophet"
   ]
  },
  {
   "cell_type": "code",
   "execution_count": null,
   "metadata": {},
   "outputs": [],
   "source": [
    "dir(Prophet)\n",
    "Out[69]:\n",
    "['__class__',\n",
    " '__delattr__',\n",
    " '__dict__',\n",
    " '__dir__',\n",
    " '__doc__',\n",
    " '__eq__',\n",
    " '__format__',\n",
    " '__ge__',\n",
    " '__getattribute__',\n",
    " '__gt__',\n",
    " '__hash__',\n",
    " '__init__',\n",
    " '__init_subclass__',\n",
    " '__le__',\n",
    " '__lt__',\n",
    " '__module__',\n",
    " '__ne__',\n",
    " '__new__',\n",
    " '__reduce__',\n",
    " '__reduce_ex__',\n",
    " '__repr__',\n",
    " '__setattr__',\n",
    " '__sizeof__',\n",
    " '__str__',\n",
    " '__subclasshook__',\n",
    " '__weakref__',\n",
    " '_load_stan_backend',\n",
    " 'add_country_holidays',\n",
    " 'add_group_component',\n",
    " 'add_regressor',\n",
    " 'add_seasonality',\n",
    " 'construct_holiday_dataframe',\n",
    " 'fit',\n",
    " 'fourier_series',\n",
    " 'initialize_scales',\n",
    " 'linear_growth_init',\n",
    " 'logistic_growth_init',\n",
    " 'make_all_seasonality_features',\n",
    " 'make_future_dataframe',\n",
    " 'make_holiday_features',\n",
    " 'make_seasonality_features',\n",
    " 'parse_seasonality_args',\n",
    " 'percentile',\n",
    " 'piecewise_linear',\n",
    " 'piecewise_logistic',\n",
    " 'plot',\n",
    " 'plot_components',\n",
    " 'predict',\n",
    " 'predict_seasonal_components',\n",
    " 'predict_trend',\n",
    " 'predict_uncertainty',\n",
    " 'predictive_samples',\n",
    " 'regressor_column_matrix',\n",
    " 'sample_model',\n",
    " 'sample_posterior_predictive',\n",
    " 'sample_predictive_trend',\n",
    " 'set_auto_seasonalities',\n",
    " 'set_changepoints',\n",
    " 'setup_dataframe',\n",
    " 'validate_column_name',\n",
    " 'validate_inputs']"
   ]
  },
  {
   "cell_type": "code",
   "execution_count": null,
   "metadata": {},
   "outputs": [],
   "source": [
    "df.head()\n",
    "\n",
    "\n",
    "Out[70]:\n",
    "ds\ty\n",
    "0\t1962-01-01\t589.0\n",
    "1\t1962-02-01\t561.0\n",
    "2\t1962-03-01\t640.0\n",
    "3\t1962-04-01\t656.0\n",
    "4\t1962-05-01\t727.0"
   ]
  },
  {
   "cell_type": "code",
   "execution_count": null,
   "metadata": {},
   "outputs": [],
   "source": [
    "### intiialize the Model\n",
    "model=Prophet()\n",
    "model.fit(df)\n",
    "\n",
    "\n",
    "INFO:fbprophet:Disabling weekly seasonality. Run prophet with weekly_seasonality=True to override this.\n",
    "INFO:fbprophet:Disabling daily seasonality. Run prophet with daily_seasonality=True to override this."
   ]
  },
  {
   "cell_type": "code",
   "execution_count": null,
   "metadata": {},
   "outputs": [],
   "source": [
    "model\n",
    "Out <fbprophet.forecaster.Prophet at 0x28480124828>"
   ]
  },
  {
   "cell_type": "code",
   "execution_count": null,
   "metadata": {},
   "outputs": [],
   "source": [
    "model.seasonalities\n",
    "\n",
    "OUT : OrderedDict([('yearly',\n",
    "              {'period': 365.25,\n",
    "               'fourier_order': 10,\n",
    "               'prior_scale': 10.0,\n",
    "               'mode': 'additive',\n",
    "               'condition_name': None})])"
   ]
  },
  {
   "cell_type": "code",
   "execution_count": null,
   "metadata": {},
   "outputs": [],
   "source": [
    "model.component_modes\n",
    "Out[27]:\n",
    "{'additive': ['yearly',\n",
    "  'additive_terms',\n",
    "  'extra_regressors_additive',\n",
    "  'holidays'],\n",
    " 'multiplicative': ['multiplicative_terms', 'extra_regressors_multiplicative']}"
   ]
  },
  {
   "cell_type": "code",
   "execution_count": null,
   "metadata": {},
   "outputs": [],
   "source": [
    "#### Create future dates of 365 days\n",
    "future_dates=model.make_future_dataframe(periods=365)"
   ]
  },
  {
   "cell_type": "code",
   "execution_count": null,
   "metadata": {},
   "outputs": [],
   "source": [
    "df.tail()\n",
    "\n",
    "\n",
    "Out[75]:\n",
    "ds\ty\n",
    "163\t1975-08-01\t858.0\n",
    "164\t1975-09-01\t817.0\n",
    "165\t1975-10-01\t827.0\n",
    "166\t1975-11-01\t797.0\n",
    "167\t1975-12-01\t843.0"
   ]
  },
  {
   "cell_type": "code",
   "execution_count": null,
   "metadata": {},
   "outputs": [],
   "source": [
    "future_dates\n",
    "Out[29]:\n",
    "ds\n",
    "0\t1962-01-01\n",
    "1\t1962-02-01\n",
    "2\t1962-03-01\n",
    "3\t1962-04-01\n",
    "4\t1962-05-01\n",
    "5\t1962-06-01\n",
    "6\t1962-07-01\n",
    "7\t1962-08-01\n",
    "8\t1962-09-01\n",
    "9\t1962-10-01\n",
    "10\t1962-11-01\n",
    "11\t1962-12-01\n",
    "12\t1963-01-01\n",
    "13\t1963-02-01\n",
    "14\t1963-03-01\n",
    "15\t1963-04-01\n",
    "16\t1963-05-01\n",
    "17\t1963-06-01\n",
    "18\t1963-07-01\n",
    "19\t1963-08-01\n",
    "20\t1963-09-01\n",
    "21\t1963-10-01\n",
    "22\t1963-11-01\n",
    "23\t1963-12-01\n",
    "24\t1964-01-01\n",
    "25\t1964-02-01\n",
    "26\t1964-03-01\n",
    "27\t1964-04-01\n",
    "28\t1964-05-01\n",
    "29\t1964-06-01\n",
    "...\t...\n",
    "503\t1976-11-01\n",
    "504\t1976-11-02\n",
    "505\t1976-11-03\n",
    "506\t1976-11-04\n",
    "507\t1976-11-05\n",
    "508\t1976-11-06\n",
    "509\t1976-11-07\n",
    "510\t1976-11-08\n",
    "511\t1976-11-09\n",
    "512\t1976-11-10\n",
    "513\t1976-11-11\n",
    "514\t1976-11-12\n",
    "515\t1976-11-13\n",
    "516\t1976-11-14\n",
    "517\t1976-11-15\n",
    "518\t1976-11-16\n",
    "519\t1976-11-17\n",
    "520\t1976-11-18\n",
    "521\t1976-11-19\n",
    "522\t1976-11-20\n",
    "523\t1976-11-21\n",
    "524\t1976-11-22\n",
    "525\t1976-11-23\n",
    "526\t1976-11-24\n",
    "527\t1976-11-25\n",
    "528\t1976-11-26\n",
    "529\t1976-11-27\n",
    "530\t1976-11-28\n",
    "531\t1976-11-29\n",
    "532\t1976-11-30\n",
    "\n",
    "\n",
    "533 rows × 1 columns"
   ]
  },
  {
   "cell_type": "code",
   "execution_count": null,
   "metadata": {},
   "outputs": [],
   "source": [
    "### Prediction\n",
    "prediction=model.predict(future_dates)"
   ]
  },
  {
   "cell_type": "code",
   "execution_count": null,
   "metadata": {},
   "outputs": [],
   "source": [
    "prediction.head()\n",
    "\n",
    "Out[77]:\n",
    "ds\ttrend\tyhat_lower\tyhat_upper\ttrend_lower\ttrend_upper\tadditive_terms\tadditive_terms_lower\tadditive_terms_upper\tyearly\tyearly_lower\tyearly_upper\tmultiplicative_terms\tmultiplicative_terms_lower\tmultiplicative_terms_upper\tyhat\n",
    "0\t1962-01-01\t606.810747\t577.139269\t596.568861\t606.810747\t606.810747\t-20.113596\t-20.113596\t-20.113596\t-20.113596\t-20.113596\t-20.113596\t0.0\t0.0\t0.0\t586.697151\n",
    "1\t1962-02-01\t608.536993\t535.947809\t556.833770\t608.536993\t608.536993\t-62.537855\t-62.537855\t-62.537855\t-62.537855\t-62.537855\t-62.537855\t0.0\t0.0\t0.0\t545.999137\n",
    "2\t1962-03-01\t610.096182\t631.409838\t651.075875\t610.096182\t610.096182\t31.410418\t31.410418\t31.410418\t31.410418\t31.410418\t31.410418\t0.0\t0.0\t0.0\t641.506601\n",
    "3\t1962-04-01\t611.822427\t648.746992\t668.799697\t611.822427\t611.822427\t46.733066\t46.733066\t46.733066\t46.733066\t46.733066\t46.733066\t0.0\t0.0\t0.0\t658.555494\n",
    "4\t1962-05-01\t613.492987\t710.633810\t731.289465\t613.492987\t613.492987\t108.064296\t108.064296\t108.064296\t108.064296\t108.064296\t108.064296\t0.0\t0.0\t0.0\t721.557284"
   ]
  },
  {
   "cell_type": "code",
   "execution_count": null,
   "metadata": {},
   "outputs": [],
   "source": [
    "(8.974783+27.786856)/2\n",
    "\n",
    "Out[36]:\n",
    "18.3808195"
   ]
  },
  {
   "cell_type": "code",
   "execution_count": null,
   "metadata": {},
   "outputs": [],
   "source": [
    "prediction[['ds','yhat','yhat_lower','yhat_upper']].tail()\n",
    "\n",
    "\n",
    "Out[78]:\n",
    "ds\tyhat\tyhat_lower\tyhat_upper\n",
    "528\t1976-11-26\t815.561801\t804.126863\t826.612997\n",
    "529\t1976-11-27\t818.770979\t806.739664\t829.425013\n",
    "530\t1976-11-28\t822.159021\t811.360765\t833.877451\n",
    "531\t1976-11-29\t825.663235\t814.082143\t837.356919\n",
    "532\t1976-11-30\t829.213819\t818.307056\t840.706645    "
   ]
  },
  {
   "cell_type": "code",
   "execution_count": null,
   "metadata": {},
   "outputs": [],
   "source": [
    "prediction[['ds','yhat','yhat_lower','yhat_upper']].head()\n",
    "\n",
    "\n",
    "Out[79]:\n",
    "ds\tyhat\tyhat_lower\tyhat_upper\n",
    "0\t1962-01-01\t586.697151\t577.139269\t596.568861\n",
    "1\t1962-02-01\t545.999137\t535.947809\t556.833770\n",
    "2\t1962-03-01\t641.506601\t631.409838\t651.075875\n",
    "3\t1962-04-01\t658.555494\t648.746992\t668.799697\n",
    "4\t1962-05-01\t721.557284\t710.633810\t731.289465"
   ]
  },
  {
   "cell_type": "markdown",
   "metadata": {},
   "source": [
    "# Plotting the Forecasts\n",
    "Prophet has an inbuilt feature that enables us to plot the forecasts we just generated. This is achieved using model.plot() and passing in our forecasts as the argument. \n",
    "The blue line in the graph represents the predicted values while the black dots represents the data in our dataset."
   ]
  },
  {
   "cell_type": "code",
   "execution_count": null,
   "metadata": {},
   "outputs": [],
   "source": [
    "#### plot the predicted projection\n",
    "model.plot(prediction)\n",
    "Out[80]:\n"
   ]
  },
  {
   "cell_type": "code",
   "execution_count": null,
   "metadata": {},
   "outputs": [],
   "source": [
    "##### Visualize Each Components[Trends,Weekly]\n",
    "model.plot_components(prediction)\n",
    "Out[81]:\n"
   ]
  },
  {
   "cell_type": "code",
   "execution_count": null,
   "metadata": {},
   "outputs": [],
   "source": [
    "Cross Validation\n",
    "Next let’s measure the forecast error using the historical data. \n",
    "We’ll do this by comparing the predicted values with the actual values. \n",
    "In order to perform this operation we select cut of points in the history of the data and \n",
    "fit the model with data upto that cut off point. \n",
    "Afterwards we compare the actual values to the predicted values. \n",
    "The cross_validation method allows us to do this in Prophet. \n",
    "This method take the following parameters as explained below:\n",
    "\n",
    "  1.horizon the forecast horizon\n",
    "  2.initial the size of the initial training period\n",
    "  3.period the spacing between cutoff dates"
   ]
  },
  {
   "cell_type": "code",
   "execution_count": null,
   "metadata": {},
   "outputs": [],
   "source": [
    "df.shape\n",
    "Out[82]: (168, 2)"
   ]
  },
  {
   "cell_type": "code",
   "execution_count": null,
   "metadata": {},
   "outputs": [],
   "source": [
    "from fbprophet.diagnostics import cross_validation"
   ]
  },
  {
   "cell_type": "code",
   "execution_count": null,
   "metadata": {},
   "outputs": [],
   "source": [
    "f_cv=cross_validation(model,horizon=\"365 days\",period='180 days',initial='1095 days')\n",
    "\n",
    "INFO:fbprophet:Making 21 forecasts with cutoffs between 1965-01-22 00:00:00 and 1974-12-01 00:00:00"
   ]
  },
  {
   "cell_type": "code",
   "execution_count": null,
   "metadata": {},
   "outputs": [],
   "source": [
    "df.head()\n",
    "\n",
    "Out[87]:ds\ty\n",
    "0\t1962-01-01\t589.0\n",
    "1\t1962-02-01\t561.0\n",
    "2\t1962-03-01\t640.0\n",
    "3\t1962-04-01\t656.0\n",
    "4\t1962-05-01\t727.0"
   ]
  },
  {
   "cell_type": "code",
   "execution_count": null,
   "metadata": {},
   "outputs": [],
   "source": [
    "df_cv.head()\n",
    "\n",
    "Out[88]:\n",
    "ds\tyhat\tyhat_lower\tyhat_upper\ty\tcutoff\n",
    "0\t1965-02-01\t629.706391\t627.773764\t631.361030\t622.0\t1965-01-22\n",
    "1\t1965-03-01\t712.739970\t705.605921\t718.567541\t709.0\t1965-01-22\n",
    "2\t1965-04-01\t731.118164\t717.637752\t743.232012\t722.0\t1965-01-22\n",
    "3\t1965-05-01\t800.091760\t779.467091\t820.481148\t782.0\t1965-01-22\n",
    "4\t1965-06-01\t768.349331\t739.856680\t798.558046\t756.0\t1965-01-22"
   ]
  },
  {
   "cell_type": "markdown",
   "metadata": {},
   "source": [
    "# Obtaining the Performance Metrics\n",
    "\n",
    "We use the performance_metrics utility to compute the Mean Squared Error(MSE), \n",
    "Root Mean Squared Error(RMSE),Mean Absolute Error(MAE), Mean Absolute Percentage Error(MAPE) \n",
    "and the coverage of the the yhat_lower and yhat_upper estimates."
   ]
  },
  {
   "cell_type": "code",
   "execution_count": null,
   "metadata": {},
   "outputs": [],
   "source": [
    "from fbprophet.diagnostics import performance_metrics\n",
    "df_performance=performance_metrics(df_cv)\n",
    "df_performance.head()\n",
    "\n",
    "\n",
    "Out[89]:\n",
    "horizon\tmse\trmse\tmae\tmape\tmdape\tcoverage\n",
    "0\t38 days\t254.213828\t15.944084\t12.426328\t0.015982\t0.013692\t0.36\n",
    "1\t41 days\t252.292064\t15.883704\t12.348837\t0.015919\t0.013692\t0.36\n",
    "2\t42 days\t267.463848\t16.354322\t12.817196\t0.016570\t0.014528\t0.36\n",
    "3\t43 days\t268.236328\t16.377922\t12.952623\t0.016783\t0.014528\t0.36\n",
    "4\t46 days\t253.593855\t15.924630\t12.602717\t0.016295\t0.014528\t0.36"
   ]
  },
  {
   "cell_type": "code",
   "execution_count": null,
   "metadata": {},
   "outputs": [],
   "source": [
    "from fbprophet.plot import plot_cross_validation_metric\n",
    "fig=plot_cross_validation_metric(df_cv,metric='rmse')"
   ]
  },
  {
   "cell_type": "code",
   "execution_count": null,
   "metadata": {},
   "outputs": [],
   "source": []
  }
 ],
 "metadata": {
  "kernelspec": {
   "display_name": "Python 3",
   "language": "python",
   "name": "python3"
  },
  "language_info": {
   "codemirror_mode": {
    "name": "ipython",
    "version": 3
   },
   "file_extension": ".py",
   "mimetype": "text/x-python",
   "name": "python",
   "nbconvert_exporter": "python",
   "pygments_lexer": "ipython3",
   "version": "3.6.4"
  }
 },
 "nbformat": 4,
 "nbformat_minor": 2
}
