{
 "cells": [
  {
   "cell_type": "markdown",
   "metadata": {},
   "source": [
    "# Handle Categorical Features\n",
    "One Hot Encoding"
   ]
  },
  {
   "cell_type": "code",
   "execution_count": null,
   "metadata": {},
   "outputs": [],
   "source": [
    "import pandas as pd"
   ]
  },
  {
   "cell_type": "code",
   "execution_count": null,
   "metadata": {},
   "outputs": [],
   "source": [
    "df=pd.read_csv('titanic.csv',usecols=['Sex'])"
   ]
  },
  {
   "cell_type": "code",
   "execution_count": null,
   "metadata": {},
   "outputs": [],
   "source": [
    "df.head()\n",
    "\n",
    "Out[6]:\n",
    "Sex\n",
    "0\tmale\n",
    "1\tfemale\n",
    "2\tfemale\n",
    "3\tfemale\n",
    "4\tmale"
   ]
  },
  {
   "cell_type": "code",
   "execution_count": null,
   "metadata": {},
   "outputs": [],
   "source": [
    "pd.get_dummies(df,drop_first=True).head()\n",
    "\n",
    "Out[9]:\n",
    "Sex_male\n",
    "0\t1\n",
    "1\t0\n",
    "2\t0\n",
    "3\t0\n",
    "4\t1"
   ]
  },
  {
   "cell_type": "code",
   "execution_count": null,
   "metadata": {},
   "outputs": [],
   "source": [
    "df=pd.read_csv('titanic.csv',usecols=['Embarked'])"
   ]
  },
  {
   "cell_type": "code",
   "execution_count": null,
   "metadata": {},
   "outputs": [],
   "source": [
    "df['Embarked'].unique()\n",
    "\n",
    "Out[14]:\n",
    "array(['S', 'C', 'Q', nan], dtype=object)"
   ]
  },
  {
   "cell_type": "code",
   "execution_count": null,
   "metadata": {},
   "outputs": [],
   "source": [
    "df.dropna(inplace=True)"
   ]
  },
  {
   "cell_type": "code",
   "execution_count": null,
   "metadata": {},
   "outputs": [],
   "source": [
    "pd.get_dummies(df,drop_first=True).head()\n",
    "\n",
    "Out[19]:\n",
    "Embarked_Q\tEmbarked_S\n",
    "0\t0\t1\n",
    "1\t0\t0\n",
    "2\t0\t1\n",
    "3\t0\t1\n",
    "4\t0\t1"
   ]
  },
  {
   "cell_type": "code",
   "execution_count": null,
   "metadata": {},
   "outputs": [],
   "source": [
    "#### Onehotencoding with many categories in a feature"
   ]
  },
  {
   "cell_type": "code",
   "execution_count": null,
   "metadata": {},
   "outputs": [],
   "source": [
    "df=pd.read_csv('mercedes.csv',usecols=[\"X0\",\"X1\",\"X2\",\"X3\",\"X4\",\"X5\",\"X6\"])"
   ]
  },
  {
   "cell_type": "code",
   "execution_count": null,
   "metadata": {},
   "outputs": [],
   "source": [
    "df.head()\n",
    "Out[25]:\n",
    "X0\tX1\tX2\tX3\tX4\tX5\tX6\n",
    "0\tk\tv\tat\ta\td\tu\tj\n",
    "1\tk\tt\tav\te\td\ty\tl\n",
    "2\taz\tw\tn\tc\td\tx\tj\n",
    "3\taz\tt\tn\tf\td\tx\tl\n",
    "4\taz\tv\tn\tf\td\th\td"
   ]
  },
  {
   "cell_type": "code",
   "execution_count": null,
   "metadata": {},
   "outputs": [],
   "source": [
    "for i in df.columns:\n",
    "    print(len(df[i].unique()))\n",
    "47\n",
    "27\n",
    "44\n",
    "7\n",
    "4\n",
    "29\n",
    "12"
   ]
  },
  {
   "cell_type": "code",
   "execution_count": null,
   "metadata": {},
   "outputs": [],
   "source": [
    "df.X1.value_counts().sort_values(ascending=False).head(10)\n",
    "\n",
    "\n",
    "Out[38]:\n",
    "aa    833\n",
    "s     598\n",
    "b     592\n",
    "l     590\n",
    "v     408\n",
    "r     251\n",
    "i     203\n",
    "a     143\n",
    "c     121\n",
    "o      82\n",
    "Name: X1, dtype: int64"
   ]
  },
  {
   "cell_type": "code",
   "execution_count": null,
   "metadata": {},
   "outputs": [],
   "source": [
    "lst_10=df.X1.value_counts().sort_values(ascending=False).head(10).index\n",
    "lst_10=list(lst_10)"
   ]
  },
  {
   "cell_type": "code",
   "execution_count": null,
   "metadata": {},
   "outputs": [],
   "source": [
    "lst_10\n",
    "\n",
    "\n",
    "Out[41]:\n",
    "['aa', 's', 'b', 'l', 'v', 'r', 'i', 'a', 'c', 'o']"
   ]
  },
  {
   "cell_type": "code",
   "execution_count": null,
   "metadata": {},
   "outputs": [],
   "source": [
    "import numpy as np\n",
    "for categories in lst_10:\n",
    "    df[categories]=np.where(df['X1']==categories,1,0)"
   ]
  },
  {
   "cell_type": "code",
   "execution_count": null,
   "metadata": {},
   "outputs": [],
   "source": [
    "lst_10.append('X1')"
   ]
  },
  {
   "cell_type": "code",
   "execution_count": null,
   "metadata": {},
   "outputs": [],
   "source": [
    "f[lst_10]\n",
    "\n",
    "\n",
    "Out[50]:\n",
    "aa\ts\tb\tl\tv\tr\ti\ta\tc\to\tX1\n",
    "0\t0\t0\t0\t0\t1\t0\t0\t0\t0\t0\tv\n",
    "1\t0\t0\t0\t0\t0\t0\t0\t0\t0\t0\tt\n",
    "2\t0\t0\t0\t0\t0\t0\t0\t0\t0\t0\tw\n",
    "3\t0\t0\t0\t0\t0\t0\t0\t0\t0\t0\tt\n",
    "4\t0\t0\t0\t0\t1\t0\t0\t0\t0\t0\tv\n",
    "5\t0\t0\t1\t0\t0\t0\t0\t0\t0\t0\tb\n",
    "6\t0\t0\t0\t0\t0\t1\t0\t0\t0\t0\tr\n",
    "7\t0\t0\t0\t1\t0\t0\t0\t0\t0\t0\tl\n",
    "8\t0\t1\t0\t0\t0\t0\t0\t0\t0\t0\ts\n",
    "9\t0\t0\t1\t0\t0\t0\t0\t0\t0\t0\tb\n",
    "10\t0\t0\t0\t0\t0\t1\t0\t0\t0\t0\tr\n",
    "11\t0\t0\t0\t0\t0\t1\t0\t0\t0\t0\tr\n",
    "12\t0\t0\t1\t0\t0\t0\t0\t0\t0\t0\tb\n",
    "13\t0\t0\t0\t0\t0\t1\t0\t0\t0\t0\tr\n",
    "14\t0\t1\t0\t0\t0\t0\t0\t0\t0\t0\ts\n",
    "15\t0\t0\t0\t1\t0\t0\t0\t0\t0\t0\tl\n",
    "16\t0\t0\t0\t0\t0\t1\t0\t0\t0\t0\tr\n",
    "17\t1\t0\t0\t0\t0\t0\t0\t0\t0\t0\taa\n",
    "18\t0\t0\t0\t0\t0\t0\t0\t0\t1\t0\tc\n",
    "19\t0\t0\t0\t0\t0\t0\t0\t1\t0\t0\ta\n",
    "20\t0\t1\t0\t0\t0\t0\t0\t0\t0\t0\ts\n",
    "21\t1\t0\t0\t0\t0\t0\t0\t0\t0\t0\taa\n",
    "22\t0\t0\t0\t0\t0\t1\t0\t0\t0\t0\tr\n",
    "23\t0\t0\t1\t0\t0\t0\t0\t0\t0\t0\tb\n",
    "24\t0\t0\t0\t0\t0\t1\t0\t0\t0\t0\tr\n",
    "25\t0\t1\t0\t0\t0\t0\t0\t0\t0\t0\ts\n",
    "26\t0\t0\t0\t1\t0\t0\t0\t0\t0\t0\tl\n",
    "27\t1\t0\t0\t0\t0\t0\t0\t0\t0\t0\taa\n",
    "28\t0\t1\t0\t0\t0\t0\t0\t0\t0\t0\ts\n",
    "29\t0\t0\t1\t0\t0\t0\t0\t0\t0\t0\tb\n",
    "...\t...\t...\t...\t...\t...\t...\t...\t...\t...\t...\t...\n",
    "4179\t0\t0\t0\t0\t0\t0\t0\t1\t0\t0\ta\n",
    "4180\t0\t0\t0\t0\t1\t0\t0\t0\t0\t0\tv\n",
    "4181\t0\t0\t0\t0\t0\t1\t0\t0\t0\t0\tr\n",
    "4182\t0\t0\t0\t0\t1\t0\t0\t0\t0\t0\tv\n",
    "4183\t1\t0\t0\t0\t0\t0\t0\t0\t0\t0\taa\n",
    "4184\t0\t1\t0\t0\t0\t0\t0\t0\t0\t0\ts\n",
    "4185\t0\t0\t0\t0\t1\t0\t0\t0\t0\t0\tv\n",
    "4186\t0\t0\t0\t0\t0\t0\t0\t0\t0\t0\tf\n",
    "4187\t0\t0\t0\t1\t0\t0\t0\t0\t0\t0\tl\n",
    "4188\t0\t1\t0\t0\t0\t0\t0\t0\t0\t0\ts\n",
    "4189\t0\t1\t0\t0\t0\t0\t0\t0\t0\t0\ts\n",
    "4190\t0\t1\t0\t0\t0\t0\t0\t0\t0\t0\ts\n",
    "4191\t0\t0\t0\t0\t1\t0\t0\t0\t0\t0\tv\n",
    "4192\t0\t0\t0\t1\t0\t0\t0\t0\t0\t0\tl\n",
    "4193\t0\t0\t0\t0\t1\t0\t0\t0\t0\t0\tv\n",
    "4194\t0\t0\t0\t0\t0\t0\t0\t0\t0\t1\to\n",
    "4195\t0\t0\t0\t1\t0\t0\t0\t0\t0\t0\tl\n",
    "4196\t0\t0\t0\t0\t0\t0\t0\t0\t0\t1\to\n",
    "4197\t0\t0\t0\t0\t1\t0\t0\t0\t0\t0\tv\n",
    "4198\t0\t0\t0\t0\t0\t0\t0\t1\t0\t0\ta\n",
    "4199\t1\t0\t0\t0\t0\t0\t0\t0\t0\t0\taa\n",
    "4200\t1\t0\t0\t0\t0\t0\t0\t0\t0\t0\taa\n",
    "4201\t0\t0\t0\t0\t1\t0\t0\t0\t0\t0\tv\n",
    "4202\t0\t0\t0\t1\t0\t0\t0\t0\t0\t0\tl\n",
    "4203\t0\t1\t0\t0\t0\t0\t0\t0\t0\t0\ts\n",
    "4204\t0\t1\t0\t0\t0\t0\t0\t0\t0\t0\ts\n",
    "4205\t0\t0\t0\t0\t0\t0\t0\t0\t0\t1\to\n",
    "4206\t0\t0\t0\t0\t1\t0\t0\t0\t0\t0\tv\n",
    "4207\t0\t0\t0\t0\t0\t1\t0\t0\t0\t0\tr\n",
    "4208\t0\t0\t0\t0\t0\t1\t0\t0\t0\t0\tr\n",
    "4209 rows × 11 columns\n",
    "\n",
    "In [ ]:\n"
   ]
  },
  {
   "cell_type": "code",
   "execution_count": null,
   "metadata": {},
   "outputs": [],
   "source": []
  },
  {
   "cell_type": "code",
   "execution_count": null,
   "metadata": {},
   "outputs": [],
   "source": []
  },
  {
   "cell_type": "code",
   "execution_count": null,
   "metadata": {},
   "outputs": [],
   "source": []
  },
  {
   "cell_type": "code",
   "execution_count": null,
   "metadata": {},
   "outputs": [],
   "source": []
  },
  {
   "cell_type": "code",
   "execution_count": null,
   "metadata": {},
   "outputs": [],
   "source": []
  }
 ],
 "metadata": {
  "kernelspec": {
   "display_name": "Python 3",
   "language": "python",
   "name": "python3"
  },
  "language_info": {
   "codemirror_mode": {
    "name": "ipython",
    "version": 3
   },
   "file_extension": ".py",
   "mimetype": "text/x-python",
   "name": "python",
   "nbconvert_exporter": "python",
   "pygments_lexer": "ipython3",
   "version": "3.6.4"
  }
 },
 "nbformat": 4,
 "nbformat_minor": 2
}
